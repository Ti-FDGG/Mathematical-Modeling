{
 "cells": [
  {
   "cell_type": "code",
   "execution_count": 1,
   "metadata": {},
   "outputs": [],
   "source": [
    "import numpy as np\n",
    "import pandas as pd\n",
    "import matplotlib.pyplot as plt\n",
    "from scipy.signal import stft\n",
    "from PIL import Image\n",
    "import os\n",
    "import random\n",
    "plt.rcParams['font.sans-serif'] = ['SimHei']\n",
    "plt.rcParams['axes.unicode_minus'] = False\n",
    "# f = np.load(r\"C:\\Users\\Timothy\\Desktop\\数学建模相关\\二轮\\数据集\\acT1_cplx_stft_f.npy\")\n",
    "# t = np.load(r\"C:\\Users\\Timothy\\Desktop\\数学建模相关\\二轮\\数据集\\acT1_cplx_stft_t.npy\")\n",
    "# Zxx = np.load(r\"C:\\Users\\Timothy\\Desktop\\数学建模相关\\二轮\\数据集\\acT1_cplx_stft_Zxx.npy\")\n",
    "# acT1_complex = np.load(r\"C:\\Users\\Timothy\\Desktop\\数学建模相关\\二轮\\数据集\\data_amplitude_T1_complex.npy\")\n",
    "# df = pd.DataFrame(acT1_complex)\n",
    "# Zxx100p_max_f = np.argmax(np.abs(Zxx[100:, :, :]), axis=1)\n",
    "\n",
    "\n",
    "# print(f.shape, t.shape, Zxx.shape)\n",
    "# print(Zxx100p_max_f.shape)"
   ]
  },
  {
   "cell_type": "code",
   "execution_count": null,
   "metadata": {},
   "outputs": [],
   "source": [
    "Bone = np.array(f[Zxx100p_max_f])\n",
    "y_train = np.zeros(320)\n",
    "Bone_train = np.expand_dims(Bone[80:400], axis=-1)\n",
    "Bone_pred = np.expand_dims(Bone, axis=-1)\n",
    "\n",
    "# 创建images\n",
    "# 遍历数据\n",
    "for i in range(850):\n",
    "    # 创建一个新的图像\n",
    "    fig = plt.figure(figsize=(10, 6))\n",
    "    plt.scatter(t, Bone[i], s=1)\n",
    "    plt.ylim(-0.3, 0.3)\n",
    "    # 保存图像到特定位置，名称为图像序号\n",
    "    plt.savefig(f'C:/Users/Timothy/Desktop/数学建模相关/二轮/数据集/images/{i}.png')\n",
    "    \n",
    "    plt.close(fig)\n",
    "# 创建spectrums\n",
    "# 遍历数据\n",
    "for i in range(850):\n",
    "    # 创建一个新的图像\n",
    "    fig = plt.figure(figsize=(10, 6))\n",
    "    plt.specgram(df.iloc[i+100], NFFT=1024, Fs=1, noverlap=500, cmap='jet')\n",
    "    plt.ylim(-0.3, 0.3)\n",
    "    # 保存图像到特定位置，名称为图像序号\n",
    "    plt.savefig(f'C:/Users/Timothy/Desktop/数学建模相关/二轮/数据集/spectrums/{i}.png')\n",
    "    \n",
    "    plt.close(fig)"
   ]
  },
  {
   "cell_type": "code",
   "execution_count": 31,
   "metadata": {},
   "outputs": [],
   "source": [
    "# 列出所有的图片文件名\n",
    "image_dir = 'C:/Users/Timothy/Desktop/数学建模相关/二轮/数据集/images/'\n",
    "image_files = [f for f in os.listdir(image_dir) if f.endswith('.png')]\n",
    "\n",
    "# 提取图片的序号\n",
    "image_indices = [int(f[:-4]) for f in image_files]\n",
    "\n",
    "# 选择序号为偶数且序号处于342-354或514-520的图片\n",
    "target_indices = [i for i in image_indices if i % 2 ==0 and (342 <= i < 354 or 514 <= i <= 520)]\n",
    "target_files = [f'{image_dir}{i}.png' for i in target_indices]\n",
    "\n",
    "# 选择其余的图片\n",
    "other_indices = [i for i in image_indices if i not in target_indices]\n",
    "random.shuffle(other_indices)\n",
    "other_files = [f'{image_dir}{i}.png' for i in other_indices[:5]]\n",
    "\n",
    "# 创建标签\n",
    "target_labels = [1] * len(target_files)\n",
    "other_labels = [0] * len(other_files)\n",
    "\n",
    "# 合并文件名和标签\n",
    "image_files = target_files + other_files\n",
    "train_labels = np.array(target_labels + other_labels)\n",
    "# print(image_files, labels, len(image_files), len(labels))\n",
    "\n",
    "# 读取图像文件并转换为 numpy 数组\n",
    "train_images = np.array([np.array(Image.open(i)) for i in image_files])\n",
    "# 将图像数据的范围从0-255转换为0-1\n",
    "train_images = train_images / 255.0\n",
    "# 创建测试数据\n",
    "test_images = np.array([np.array(Image.open(f'{image_dir}{2*i+1}.png')) for i in range(425)])\n"
   ]
  },
  {
   "cell_type": "code",
   "execution_count": 22,
   "metadata": {},
   "outputs": [
    {
     "name": "stdout",
     "output_type": "stream",
     "text": [
      "(20, 600, 1000, 4) (425, 600, 1000, 4) (20,)\n"
     ]
    }
   ],
   "source": [
    "print(train_images.shape, test_images.shape, train_labels.shape)"
   ]
  },
  {
   "cell_type": "code",
   "execution_count": 32,
   "metadata": {},
   "outputs": [
    {
     "name": "stdout",
     "output_type": "stream",
     "text": [
      "\u001b[1m1/1\u001b[0m \u001b[32m━━━━━━━━━━━━━━━━━━━━\u001b[0m\u001b[37m\u001b[0m \u001b[1m5s\u001b[0m 5s/step - accuracy: 0.3333 - loss: 0.7369\n"
     ]
    },
    {
     "data": {
      "text/plain": [
       "<keras.src.callbacks.history.History at 0x29d9794de90>"
      ]
     },
     "execution_count": 32,
     "metadata": {},
     "output_type": "execute_result"
    }
   ],
   "source": [
    "from keras.models import Sequential\n",
    "from keras.layers import Conv2D, MaxPooling2D, Flatten, Dense\n",
    "\n",
    "# 创建模型\n",
    "model = Sequential()\n",
    "model.add(Conv2D(32, (3, 3), activation='relu', input_shape=(600, 1000, 4)))\n",
    "model.add(MaxPooling2D((2, 2)))\n",
    "model.add(Conv2D(64, (3, 3), activation='relu'))\n",
    "model.add(MaxPooling2D((2, 2)))\n",
    "model.add(Flatten())\n",
    "model.add(Dense(64, activation='relu'))\n",
    "model.add(Dense(2, activation='softmax'))  # 假设你有两个类别：海杂波和目标\n",
    "\n",
    "# 编译模型\n",
    "model.compile(optimizer='adam', loss='sparse_categorical_crossentropy', metrics=['accuracy'])\n",
    "\n",
    "# 训练模型\n",
    "model.fit(train_images, train_labels, epochs=1)"
   ]
  },
  {
   "cell_type": "code",
   "execution_count": 8,
   "metadata": {},
   "outputs": [],
   "source": [
    "test_images2 = np.array([np.array(Image.open(\n",
    "    f'C:/Users/Timothy/Desktop/数学建模相关/二轮/数据集/images/{i}.png')) for i in range(425)])"
   ]
  },
  {
   "cell_type": "code",
   "execution_count": 33,
   "metadata": {},
   "outputs": [
    {
     "name": "stdout",
     "output_type": "stream",
     "text": [
      "\u001b[1m14/14\u001b[0m \u001b[32m━━━━━━━━━━━━━━━━━━━━\u001b[0m\u001b[37m\u001b[0m \u001b[1m11s\u001b[0m 710ms/step\n",
      "[1 1 1 1 1 1 1 1 1 1 1 1 1 1 1 1 1 1 1 1 1 1 1 1 1 1 1 1 1 1 1 1 1 1 1 1 1\n",
      " 1 1 1 1 1 1 1 1 1 1 1 1 1 1 1 1 1 1 1 1 1 1 1 1 1 1 1 1 1 1 1 1 1 1 1 1 1\n",
      " 1 1 1 1 1 1 1 1 1 1 1 1 1 1 1 1 1 1 1 1 1 1 1 1 1 1 1 1 1 1 1 1 1 1 1 1 1\n",
      " 1 1 1 1 1 1 1 1 1 1 1 1 1 1 1 1 1 1 1 1 1 1 1 1 1 1 1 1 1 1 1 1 1 1 1 1 1\n",
      " 1 1 1 1 1 1 1 1 1 1 1 1 1 1 1 1 1 1 1 1 1 1 1 1 1 1 1 1 1 1 1 1 1 1 1 1 1\n",
      " 1 1 1 1 1 1 1 1 1 1 1 1 1 1 1 1 1 1 1 1 1 1 1 1 1 1 1 1 1 1 1 1 1 1 1 1 1\n",
      " 1 1 1 1 1 1 1 1 1 1 1 1 1 1 1 1 1 1 1 1 1 1 1 1 1 1 1 1 1 1 1 1 1 1 1 1 1\n",
      " 1 1 1 1 1 1 1 1 1 1 1 1 1 1 1 1 1 1 1 1 1 1 1 1 1 1 1 1 1 1 1 1 1 1 1 1 1\n",
      " 1 1 1 1 1 1 1 1 1 1 1 1 1 1 1 1 1 1 1 1 1 1 1 1 1 1 1 1 1 1 1 1 1 1 1 1 1\n",
      " 1 1 1 1 1 1 1 1 1 1 1 1 1 1 1 1 1 1 1 1 1 1 1 1 1 1 1 1 1 1 1 1 1 1 1 1 1\n",
      " 1 1 1 1 1 1 1 1 1 1 1 1 1 1 1 1 1 1 1 1 1 1 1 1 1 1 1 1 1 1 1 1 1 1 1 1 1\n",
      " 1 1 1 1 1 1 1 1 1 1 1 1 1 1 1 1 1 1]\n"
     ]
    }
   ],
   "source": [
    "# 预测新的数据\n",
    "predictions = model.predict(test_images)\n",
    "print(np.argmax(predictions, axis=-1))"
   ]
  }
 ],
 "metadata": {
  "kernelspec": {
   "display_name": ".venv",
   "language": "python",
   "name": "python3"
  },
  "language_info": {
   "codemirror_mode": {
    "name": "ipython",
    "version": 3
   },
   "file_extension": ".py",
   "mimetype": "text/x-python",
   "name": "python",
   "nbconvert_exporter": "python",
   "pygments_lexer": "ipython3",
   "version": "3.11.5"
  }
 },
 "nbformat": 4,
 "nbformat_minor": 2
}
