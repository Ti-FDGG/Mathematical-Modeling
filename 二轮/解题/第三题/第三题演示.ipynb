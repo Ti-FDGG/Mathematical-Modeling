{
 "cells": [
  {
   "cell_type": "code",
   "execution_count": 1,
   "metadata": {},
   "outputs": [],
   "source": [
    "import numpy as np\n",
    "import pandas as pd\n",
    "import matplotlib.pyplot as plt\n",
    "from scipy.ndimage import gaussian_filter\n",
    "from matplotlib.colors import Normalize\n",
    "import cv2\n",
    "\n",
    "plt.rcParams['font.sans-serif'] = ['SimHei']\n",
    "plt.rcParams['axes.unicode_minus'] = False\n",
    "\n",
    "acT1_complex = np.load(r\"C:\\Users\\Timothy\\Desktop\\数学建模相关\\二轮\\数据集\\data_amplitude_T1_complex.npy\")\n",
    "df = pd.DataFrame(acT1_complex)"
   ]
  },
  {
   "cell_type": "markdown",
   "metadata": {},
   "source": [
    "##### 原图展示"
   ]
  },
  {
   "cell_type": "code",
   "execution_count": 5,
   "metadata": {},
   "outputs": [],
   "source": [
    "plt.figure(figsize=(10, 6))\n",
    "Pxx, freqs, bins, im = plt.specgram(df.iloc[445], NFFT=1024, Fs=1, noverlap=500, cmap='jet')\n",
    "plt.ylim(-0.3, 0.3)\n",
    "plt.colorbar()\n",
    "plt.xlabel('脉冲数')\n",
    "plt.ylabel('频率')\n",
    "plt.title('原始频谱图')\n",
    "plt.savefig('original.png')\n",
    "plt.close()"
   ]
  },
  {
   "cell_type": "markdown",
   "metadata": {},
   "source": [
    "##### 一次去噪+特异性滤波"
   ]
  },
  {
   "cell_type": "code",
   "execution_count": 6,
   "metadata": {},
   "outputs": [
    {
     "name": "stderr",
     "output_type": "stream",
     "text": [
      "C:\\Users\\Timothy\\AppData\\Local\\Temp\\ipykernel_8492\\1210175391.py:16: RuntimeWarning: divide by zero encountered in log10\n",
      "  plt.pcolormesh(bins, freqs, 10 * np.log10(Pxx_filtered), cmap='jet', norm=norm)\n"
     ]
    }
   ],
   "source": [
    "# 对Pxx应用高斯滤波\n",
    "Pxx_filtered = gaussian_filter(Pxx, sigma=0.1)\n",
    "# 保存原来的颜色映射\n",
    "vmin = np.min(10 * np.log10(Pxx_filtered))\n",
    "vmax = np.max(10 * np.log10(Pxx_filtered))\n",
    "norm = Normalize(vmin=vmin, vmax=vmax)\n",
    "# 特异性抑制\n",
    "index = np.where((freqs >= 0.03) & (freqs <= 0.2))\n",
    "def sigmoid(x):\n",
    "    return 1 / (1 + np.exp(-x))\n",
    "suppress_func = 1 - sigmoid(Pxx_filtered[index]/500000000) # 计算抑制函数\n",
    "Pxx_filtered[index] = Pxx_filtered[index] * suppress_func\n",
    "\n",
    "# 保存原图像\n",
    "plt.figure(figsize=(10, 6))\n",
    "plt.pcolormesh(bins, freqs, 10 * np.log10(Pxx_filtered), cmap='jet', norm=norm)\n",
    "plt.ylim(-0.3, 0.3)\n",
    "plt.colorbar()\n",
    "plt.xlabel('脉冲数')\n",
    "plt.ylabel('频率')\n",
    "plt.title('频谱图')\n",
    "plt.savefig('p1.png')\n",
    "plt.close()"
   ]
  },
  {
   "cell_type": "code",
   "execution_count": 20,
   "metadata": {},
   "outputs": [
    {
     "data": {
      "image/png": "[encoded data removed]",
      "text/plain": [
       "<Figure size 640x480 with 1 Axes>"
      ]
     },
     "metadata": {},
     "output_type": "display_data"
    }
   ],
   "source": [
    "x = np.linspace(-1000000, 1000000, 102400)\n",
    "y = 1 - sigmoid(x/50000)\n",
    "\n",
    "plt.plot(x, y)\n",
    "plt.show()"
   ]
  },
  {
   "cell_type": "markdown",
   "metadata": {},
   "source": [
    "##### 二次去噪（OpenCV）"
   ]
  },
  {
   "cell_type": "code",
   "execution_count": 34,
   "metadata": {},
   "outputs": [
    {
     "data": {
      "text/plain": [
       "True"
      ]
     },
     "execution_count": 34,
     "metadata": {},
     "output_type": "execute_result"
    }
   ],
   "source": [
    "img = cv2.imread('p1.png')\n",
    "dst = cv2.fastNlMeansDenoisingColored(img, None, 10, 10, 7, 21)\n",
    "cv2.imwrite('p2.png', dst)"
   ]
  },
  {
   "cell_type": "markdown",
   "metadata": {},
   "source": [
    "##### 轮廓提取（二值图）"
   ]
  },
  {
   "cell_type": "code",
   "execution_count": 35,
   "metadata": {},
   "outputs": [
    {
     "data": {
      "text/plain": [
       "True"
      ]
     },
     "execution_count": 35,
     "metadata": {},
     "output_type": "execute_result"
    }
   ],
   "source": [
    "# 读取图像，并确定处理区域\n",
    "img = dst\n",
    "roi = img[:, :700]\n",
    "\n",
    "# 提取红色区域\n",
    "hsv = cv2.cvtColor(roi, cv2.COLOR_BGR2HSV)\n",
    "lower_red = np.array([0, 70, 50])\n",
    "upper_red = np.array([10, 255, 255])\n",
    "\n",
    "# 查找轮廓\n",
    "mask = cv2.inRange(hsv, lower_red, upper_red)\n",
    "res = cv2.bitwise_and(roi, roi, mask=mask)\n",
    "gray = cv2.cvtColor(res, cv2.COLOR_BGR2GRAY) # 将图像转换为灰度图\n",
    "_, thresh = cv2.threshold(gray, 1, 255, cv2.THRESH_BINARY) # 应用阈值操作，将图像转换为二值\n",
    "contours, _ = cv2.findContours(thresh, cv2.RETR_EXTERNAL, cv2.CHAIN_APPROX_SIMPLE)\n",
    "\n",
    "# 在图像上绘制轮廓并保存\n",
    "cv2.drawContours(img, contours, -1, (255, 255, 255), 3)\n",
    "cv2.imwrite('p31.png', img)\n",
    "# 绘制二值图像并保存\n",
    "new_img = np.zeros_like(img) # 创建一个与img相同大小的全黑图像\n",
    "cv2.drawContours(new_img, contours, -1, (255, 255, 255), 3)\n",
    "cv2.imwrite('p32.png', new_img)"
   ]
  },
  {
   "cell_type": "markdown",
   "metadata": {},
   "source": [
    "##### 分类"
   ]
  },
  {
   "cell_type": "code",
   "execution_count": 36,
   "metadata": {},
   "outputs": [
    {
     "name": "stdout",
     "output_type": "stream",
     "text": [
      "(600, 1000, 3)\n",
      "221.72156862745098\n"
     ]
    }
   ],
   "source": [
    "# 将图像的像素值除以255，得到0和1的矩阵\n",
    "binary_matrix = gray / 255\n",
    "# 打印矩阵\n",
    "print(img.shape)\n",
    "print(np.sum(binary_matrix))"
   ]
  }
 ],
 "metadata": {
  "kernelspec": {
   "display_name": ".venv",
   "language": "python",
   "name": "python3"
  },
  "language_info": {
   "codemirror_mode": {
    "name": "ipython",
    "version": 3
   },
   "file_extension": ".py",
   "mimetype": "text/x-python",
   "name": "python",
   "nbconvert_exporter": "python",
   "pygments_lexer": "ipython3",
   "version": "3.11.5"
  }
 },
 "nbformat": 4,
 "nbformat_minor": 2
}
