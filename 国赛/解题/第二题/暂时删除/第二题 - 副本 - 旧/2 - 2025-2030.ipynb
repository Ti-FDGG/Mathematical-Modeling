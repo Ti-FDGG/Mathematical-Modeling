{
 "cells": [
  {
   "cell_type": "code",
   "execution_count": 1,
   "metadata": {},
   "outputs": [],
   "source": [
    "import sys\n",
    "sys.path.append('../modules/')\n",
    "import pandas as pd\n",
    "import matplotlib.pyplot as plt\n",
    "import pulp\n",
    "from mymodule_2 import *\n",
    "from mymodule2_2 import *\n",
    "from pulp_func_2 import *\n",
    "df2023_result = pd.read_excel('../excels/附件3/2023_result.xlsx')\n",
    "# 去除列名末尾的空格。很奇怪\n",
    "df2023_result.columns = [column.rstrip(' ') for column in df2023_result.columns]\n",
    "# print(df2023_result)"
   ]
  },
  {
   "cell_type": "code",
   "execution_count": 2,
   "metadata": {},
   "outputs": [
    {
     "name": "stdout",
     "output_type": "stream",
     "text": [
      "    作物编号 作物名称     总产量/斤\n",
      "0      1   黄豆   57000.0\n",
      "1      2   黑豆   21850.0\n",
      "2      3   红豆   22400.0\n",
      "3      4   绿豆   33040.0\n",
      "4      5   爬豆    9875.0\n",
      "5      6   小麦  170840.0\n",
      "6      7   玉米  132750.0\n",
      "7      8   谷子   71400.0\n",
      "8      9   高粱   30000.0\n",
      "9     10   黍子   12500.0\n",
      "10    11   荞麦    1500.0\n",
      "11    12   南瓜   35100.0\n",
      "12    13   红薯   36000.0\n",
      "13    14   莜麦   14000.0\n",
      "14    15   大麦   10000.0\n",
      "15    16   水稻   21000.0\n",
      "16    17   豇豆   36480.0\n",
      "17    18   刀豆   26880.0\n",
      "18    19   芸豆    6480.0\n",
      "19    20   土豆   30000.0\n",
      "20    21  西红柿   36210.0\n",
      "21    22   茄子   45360.0\n",
      "22    23  菠菜      900.0\n",
      "23    24   青椒    2610.0\n",
      "24    25   菜花    3600.0\n",
      "25    26   包菜    4050.0\n",
      "26    27  油麦菜    4500.0\n",
      "27    28  小青菜   35480.0\n",
      "28    29   黄瓜   13050.0\n",
      "29    30  生菜     2850.0\n",
      "30    31   辣椒    1200.0\n",
      "31    32  空心菜    3600.0\n",
      "32    33  黄心菜    1800.0\n",
      "33    34   芹菜    1800.0\n",
      "34    35  大白菜  150000.0\n",
      "35    36  白萝卜  100000.0\n",
      "36    37  红萝卜   36000.0\n",
      "37    38  榆黄菇    9000.0\n",
      "38    39   香菇    7200.0\n",
      "39    40  白灵菇   18000.0\n",
      "40    41  羊肚菌    4200.0\n"
     ]
    }
   ],
   "source": [
    "# 数据准备\n",
    "\n",
    "merged_df = get_merged_df(df21, df22)\n",
    "# print(merged_df)\n",
    "total_yield_2023 = merged_df.groupby(['作物编号', '作物名称'])['单地块类型总产量/斤'].sum().reset_index()\n",
    "total_yield_2023.columns = ['作物编号', '作物名称', '总产量/斤']\n",
    "# print(total_yield_2023)\n",
    "expected_sales_data_2023 = total_yield_2023.copy()\n",
    "expected_sales_data_2023.columns = ['作物编号', '作物名称', '预期销售量/斤']\n",
    "expected_sales_data = total_yield_2023.copy() # 初始值为2023年的数据\n",
    "print(expected_sales_data)\n",
    "expected_sales_data.columns = ['作物编号', '作物名称', '预期销售量/斤']\n",
    "\n",
    "std_devs = [0.005, 0.005, 0.01, 0.01, 0.003, 0.003, 0.003, 0.003]"
   ]
  },
  {
   "cell_type": "code",
   "execution_count": 3,
   "metadata": {},
   "outputs": [
    {
     "name": "stdout",
     "output_type": "stream",
     "text": [
      "Crop(crop_id=1, crop_name=黄豆, crop_type=粮食（豆类）, planting_fields=[['平旱地', '单季', 400, 400], ['梯田', '单季', 380, 400], ['山坡地', '单季', 360, 400]], crop_price=3.25)\n",
      "Crop(crop_id=2, crop_name=黑豆, crop_type=粮食（豆类）, planting_fields=[['平旱地', '单季', 500, 400], ['梯田', '单季', 475, 400], ['山坡地', '单季', 450, 400]], crop_price=7.5)\n",
      "Crop(crop_id=3, crop_name=红豆, crop_type=粮食（豆类）, planting_fields=[['平旱地', '单季', 400, 350], ['梯田', '单季', 380, 350], ['山坡地', '单季', 360, 350]], crop_price=8.25)\n",
      "Crop(crop_id=4, crop_name=绿豆, crop_type=粮食（豆类）, planting_fields=[['平旱地', '单季', 350, 350], ['梯田', '单季', 330, 350], ['山坡地', '单季', 315, 350]], crop_price=7.0)\n",
      "Crop(crop_id=5, crop_name=爬豆, crop_type=粮食（豆类）, planting_fields=[['平旱地', '单季', 415, 350], ['梯田', '单季', 395, 350], ['山坡地', '单季', 375, 350]], crop_price=6.75)\n",
      "Crop(crop_id=6, crop_name=小麦, crop_type=粮食, planting_fields=[['平旱地', '单季', 800, 450], ['梯田', '单季', 760, 450], ['山坡地', '单季', 720, 450]], crop_price=3.5)\n",
      "Crop(crop_id=7, crop_name=玉米, crop_type=粮食, planting_fields=[['平旱地', '单季', 1000, 500], ['梯田', '单季', 950, 500], ['山坡地', '单季', 900, 500]], crop_price=3.0)\n",
      "Crop(crop_id=8, crop_name=谷子, crop_type=粮食, planting_fields=[['平旱地', '单季', 400, 360], ['梯田', '单季', 380, 360], ['山坡地', '单季', 360, 360]], crop_price=6.75)\n",
      "Crop(crop_id=9, crop_name=高粱, crop_type=粮食, planting_fields=[['平旱地', '单季', 630, 400], ['梯田', '单季', 600, 400], ['山坡地', '单季', 570, 400]], crop_price=6.0)\n",
      "Crop(crop_id=10, crop_name=黍子, crop_type=粮食, planting_fields=[['平旱地', '单季', 525, 360], ['梯田', '单季', 500, 360], ['山坡地', '单季', 475, 360]], crop_price=7.5)\n",
      "Crop(crop_id=11, crop_name=荞麦, crop_type=粮食, planting_fields=[['平旱地', '单季', 110, 350], ['梯田', '单季', 105, 350], ['山坡地', '单季', 100, 350]], crop_price=40.0)\n",
      "Crop(crop_id=12, crop_name=南瓜, crop_type=粮食, planting_fields=[['平旱地', '单季', 3000, 1000], ['梯田', '单季', 2850, 1000], ['山坡地', '单季', 2700, 1000]], crop_price=1.5)\n",
      "Crop(crop_id=13, crop_name=红薯, crop_type=粮食, planting_fields=[['平旱地', '单季', 2200, 2000], ['梯田', '单季', 2100, 2000], ['山坡地', '单季', 2000, 2000]], crop_price=3.25)\n",
      "Crop(crop_id=14, crop_name=莜麦, crop_type=粮食, planting_fields=[['平旱地', '单季', 420, 400], ['梯田', '单季', 400, 400], ['山坡地', '单季', 380, 400]], crop_price=5.5)\n",
      "Crop(crop_id=15, crop_name=大麦, crop_type=粮食, planting_fields=[['平旱地', '单季', 525, 350], ['梯田', '单季', 500, 350], ['山坡地', '单季', 475, 350]], crop_price=3.5)\n",
      "Crop(crop_id=16, crop_name=水稻, crop_type=粮食（水稻）, planting_fields=[['水浇地', '单季', 500, 680]], crop_price=7.0)\n",
      "Crop(crop_id=17, crop_name=豇豆, crop_type=蔬菜（豆类）, planting_fields=[['水浇地', '第一季', 3000, 2000], ['普通大棚', '第一季', 3600, 2400], ['智慧大棚', '第一季', 3600, 2400], ['智慧大棚', '第二季', 3200, 2640]], crop_price=9.600000000000001)\n",
      "Crop(crop_id=18, crop_name=刀豆, crop_type=蔬菜（豆类）, planting_fields=[['水浇地', '第一季', 2000, 1000], ['普通大棚', '第一季', 2400, 1200], ['智慧大棚', '第一季', 2400, 1200], ['智慧大棚', '第二季', 2200, 1320]], crop_price=8.1)\n",
      "Crop(crop_id=19, crop_name=芸豆, crop_type=蔬菜（豆类）, planting_fields=[['水浇地', '第一季', 3000, 2000], ['普通大棚', '第一季', 3600, 2400], ['智慧大棚', '第一季', 3600, 2400], ['智慧大棚', '第二季', 3200, 2640]], crop_price=7.8)\n",
      "Crop(crop_id=20, crop_name=土豆, crop_type=蔬菜, planting_fields=[['水浇地', '第一季', 2000, 2000], ['普通大棚', '第一季', 2400, 2400], ['智慧大棚', '第一季', 2400, 2400], ['智慧大棚', '第二季', 2200, 2640]], crop_price=4.5)\n",
      "Crop(crop_id=21, crop_name=西红柿, crop_type=蔬菜, planting_fields=[['水浇地', '第一季', 2400, 2000], ['普通大棚', '第一季', 3000, 2400], ['智慧大棚', '第一季', 3000, 2400], ['智慧大棚', '第二季', 2700, 2640]], crop_price=7.5)\n",
      "Crop(crop_id=22, crop_name=茄子, crop_type=蔬菜, planting_fields=[['水浇地', '第一季', 6400, 2000], ['普通大棚', '第一季', 8000, 2400], ['智慧大棚', '第一季', 8000, 2400], ['智慧大棚', '第二季', 7200, 2640]], crop_price=6.6)\n",
      "Crop(crop_id=23, crop_name=菠菜, crop_type=蔬菜, planting_fields=[['水浇地', '第一季', 2700, 2300], ['普通大棚', '第一季', 3300, 2700], ['智慧大棚', '第一季', 3300, 2700], ['智慧大棚', '第二季', 3000, 3000]], crop_price=6.9)\n",
      "Crop(crop_id=24, crop_name=青椒, crop_type=蔬菜, planting_fields=[['水浇地', '第一季', 2400, 1600], ['普通大棚', '第一季', 3000, 2000], ['智慧大棚', '第一季', 3000, 2000], ['智慧大棚', '第二季', 2700, 2200]], crop_price=6.8)\n",
      "Crop(crop_id=25, crop_name=菜花, crop_type=蔬菜, planting_fields=[['水浇地', '第一季', 3300, 2400], ['普通大棚', '第一季', 4000, 3000], ['智慧大棚', '第一季', 4000, 3000], ['智慧大棚', '第二季', 3600, 3300]], crop_price=6.6)\n",
      "Crop(crop_id=26, crop_name=包菜, crop_type=蔬菜, planting_fields=[['水浇地', '第一季', 3700, 2900], ['普通大棚', '第一季', 4500, 3500], ['智慧大棚', '第一季', 4500, 3500], ['智慧大棚', '第二季', 4100, 3850]], crop_price=7.8)\n",
      "Crop(crop_id=27, crop_name=油麦菜, crop_type=蔬菜, planting_fields=[['水浇地', '第一季', 4100, 1600], ['普通大棚', '第一季', 5000, 2000], ['智慧大棚', '第一季', 5000, 2000], ['智慧大棚', '第二季', 4500, 2200]], crop_price=6.0)\n",
      "Crop(crop_id=28, crop_name=小青菜, crop_type=蔬菜, planting_fields=[['水浇地', '第一季', 3200, 1600], ['普通大棚', '第一季', 4000, 2000], ['智慧大棚', '第一季', 4000, 2000], ['智慧大棚', '第二季', 3600, 2200]], crop_price=6.9)\n",
      "Crop(crop_id=29, crop_name=黄瓜, crop_type=蔬菜, planting_fields=[['水浇地', '第一季', 12000, 2900], ['普通大棚', '第一季', 15000, 3500], ['智慧大棚', '第一季', 15000, 3500], ['智慧大棚', '第二季', 13500, 3850]], crop_price=8.4)\n",
      "Crop(crop_id=30, crop_name=生菜, crop_type=蔬菜, planting_fields=[['水浇地', '第一季', 4100, 1600], ['普通大棚', '第一季', 5000, 2000], ['智慧大棚', '第一季', 5000, 2000], ['智慧大棚', '第二季', 4500, 2200]], crop_price=6.300000000000001)\n",
      "Crop(crop_id=31, crop_name=辣椒, crop_type=蔬菜, planting_fields=[['水浇地', '第一季', 1600, 1000], ['普通大棚', '第一季', 2000, 1200], ['智慧大棚', '第一季', 2000, 1200], ['智慧大棚', '第二季', 1800, 1300]], crop_price=8.7)\n",
      "Crop(crop_id=32, crop_name=空心菜, crop_type=蔬菜, planting_fields=[['水浇地', '第一季', 10000, 4100], ['普通大棚', '第一季', 12000, 5000], ['智慧大棚', '第一季', 12000, 5000], ['智慧大棚', '第二季', 11000, 5500]], crop_price=5.4)\n",
      "Crop(crop_id=33, crop_name=黄心菜, crop_type=蔬菜, planting_fields=[['水浇地', '第一季', 5000, 2000], ['普通大棚', '第一季', 6000, 2500], ['智慧大棚', '第一季', 6000, 2500], ['智慧大棚', '第二季', 5400, 2750]], crop_price=5.4)\n",
      "Crop(crop_id=34, crop_name=芹菜, crop_type=蔬菜, planting_fields=[['水浇地', '第一季', 5500, 900], ['普通大棚', '第一季', 6600, 1100], ['智慧大棚', '第一季', 6600, 1100], ['智慧大棚', '第二季', 6000, 1200]], crop_price=4.8)\n",
      "Crop(crop_id=35, crop_name=大白菜, crop_type=蔬菜（水二）, planting_fields=[['水浇地', '第二季', 5000, 2000]], crop_price=2.5)\n",
      "Crop(crop_id=36, crop_name=白萝卜, crop_type=蔬菜（水二）, planting_fields=[['水浇地', '第二季', 4000, 500]], crop_price=2.5)\n",
      "Crop(crop_id=37, crop_name=红萝卜, crop_type=蔬菜（水二）, planting_fields=[['水浇地', '第二季', 3000, 500]], crop_price=3.25)\n",
      "Crop(crop_id=38, crop_name=榆黄菇, crop_type=食用菌, planting_fields=[['普通大棚', '第二季', 5000, 3000]], crop_price=57.5)\n",
      "Crop(crop_id=39, crop_name=香菇, crop_type=食用菌, planting_fields=[['普通大棚', '第二季', 4000, 2000]], crop_price=19.0)\n",
      "Crop(crop_id=40, crop_name=白灵菇, crop_type=食用菌, planting_fields=[['普通大棚', '第二季', 10000, 10000]], crop_price=16.0)\n",
      "Crop(crop_id=41, crop_name=羊肚菌, crop_type=食用菌, planting_fields=[['普通大棚', '第二季', 1000, 10000]], crop_price=100.0)\n"
     ]
    }
   ],
   "source": [
    "fields = create_fields(df11)\n",
    "# for field in fields:\n",
    "#     print(field)\n",
    "new_fields = create_new_fields(fields)\n",
    "# for field in new_fields:\n",
    "#     print(field)\n",
    "crops = create_crops(df12, df22)\n",
    "for crop in crops:\n",
    "    print(crop)    "
   ]
  },
  {
   "cell_type": "markdown",
   "metadata": {},
   "source": [
    "### 2 - 2024"
   ]
  },
  {
   "cell_type": "code",
   "execution_count": 4,
   "metadata": {},
   "outputs": [],
   "source": [
    "# 更新数据\n",
    "expected_sales_data = update_expected_sales_data(expected_sales_data, expected_sales_data_2023, std_devs)\n",
    "# print(expected_sales_data)\n",
    "crops = update_crops(crops, std_devs)\n",
    "# for crop in crops:\n",
    "#     print(crop)"
   ]
  },
  {
   "cell_type": "code",
   "execution_count": 5,
   "metadata": {},
   "outputs": [],
   "source": [
    "variables, binary_variables, actual_sales, excess_yield = create_variables(new_fields, crops)\n",
    "# 创建线性规划问题\n",
    "prob = pulp.LpProblem(\"Crop_Planting_Optimization\", pulp.LpMaximize)\n",
    "# 定义目标函数的各个部分\n",
    "k = 0.5\n",
    "min_area_percent = 0.2\n",
    "max_plots = 4\n",
    "profit = define_objective_function(variables, actual_sales, excess_yield, crops, new_fields, k)\n",
    "# 将目标函数添加到问题中\n",
    "prob += profit\n",
    "# print(profit)\n",
    "prob = add_constraints2(prob, variables, binary_variables, actual_sales, excess_yield,\n",
    "                        crops, new_fields, total_yield_2023, df2023_result, min_area_percent, max_plots)"
   ]
  },
  {
   "cell_type": "code",
   "execution_count": 6,
   "metadata": {},
   "outputs": [
    {
     "name": "stdout",
     "output_type": "stream",
     "text": [
      "Status: Infeasible\n"
     ]
    },
    {
     "name": "stderr",
     "output_type": "stream",
     "text": [
      "e:\\Users\\Timothy\\anaconda3\\Lib\\site-packages\\openpyxl\\worksheet\\header_footer.py:48: UserWarning: Cannot parse header or footer so it will be ignored\n",
      "  warn(\"\"\"Cannot parse header or footer so it will be ignored\"\"\")\n"
     ]
    },
    {
     "name": "stdout",
     "output_type": "stream",
     "text": [
      "Objective Function Value: 8630943.656187767\n"
     ]
    }
   ],
   "source": [
    "# 求解问题\n",
    "prob.solve()\n",
    "print(\"Status:\", pulp.LpStatus[prob.status])\n",
    "update_new_fields(variables, new_fields)\n",
    "# 打印结果\n",
    "# for field in new_fields:\n",
    "#     print(field.field_name, field.season, field.planted_crop)\n",
    "df_template = pd.read_excel('../excels/附件3/template.xlsx')\n",
    "output(df_template, 2024, new_fields, k)\n",
    "# print(df_template)\n",
    "objective_value = pulp.value(prob.objective)\n",
    "print(\"Objective Function Value:\", objective_value)"
   ]
  },
  {
   "cell_type": "markdown",
   "metadata": {},
   "source": [
    "### 2 - 2025-2030"
   ]
  },
  {
   "cell_type": "code",
   "execution_count": 7,
   "metadata": {},
   "outputs": [
    {
     "name": "stdout",
     "output_type": "stream",
     "text": [
      "Status: Infeasible\n"
     ]
    },
    {
     "name": "stderr",
     "output_type": "stream",
     "text": [
      "e:\\Users\\Timothy\\anaconda3\\Lib\\site-packages\\openpyxl\\worksheet\\header_footer.py:48: UserWarning: Cannot parse header or footer so it will be ignored\n",
      "  warn(\"\"\"Cannot parse header or footer so it will be ignored\"\"\")\n"
     ]
    },
    {
     "name": "stdout",
     "output_type": "stream",
     "text": [
      "Objective Function Value: 8630943.656187767\n",
      "Status: Infeasible\n"
     ]
    },
    {
     "name": "stderr",
     "output_type": "stream",
     "text": [
      "e:\\Users\\Timothy\\anaconda3\\Lib\\site-packages\\openpyxl\\worksheet\\header_footer.py:48: UserWarning: Cannot parse header or footer so it will be ignored\n",
      "  warn(\"\"\"Cannot parse header or footer so it will be ignored\"\"\")\n"
     ]
    },
    {
     "name": "stdout",
     "output_type": "stream",
     "text": [
      "Objective Function Value: 8630943.656187767\n",
      "Status: Infeasible\n"
     ]
    },
    {
     "name": "stderr",
     "output_type": "stream",
     "text": [
      "e:\\Users\\Timothy\\anaconda3\\Lib\\site-packages\\openpyxl\\worksheet\\header_footer.py:48: UserWarning: Cannot parse header or footer so it will be ignored\n",
      "  warn(\"\"\"Cannot parse header or footer so it will be ignored\"\"\")\n"
     ]
    },
    {
     "name": "stdout",
     "output_type": "stream",
     "text": [
      "Objective Function Value: 8630943.656187767\n",
      "Status: Infeasible\n"
     ]
    },
    {
     "name": "stderr",
     "output_type": "stream",
     "text": [
      "e:\\Users\\Timothy\\anaconda3\\Lib\\site-packages\\openpyxl\\worksheet\\header_footer.py:48: UserWarning: Cannot parse header or footer so it will be ignored\n",
      "  warn(\"\"\"Cannot parse header or footer so it will be ignored\"\"\")\n"
     ]
    },
    {
     "name": "stdout",
     "output_type": "stream",
     "text": [
      "Objective Function Value: 8630943.656187767\n",
      "Status: Infeasible\n"
     ]
    },
    {
     "name": "stderr",
     "output_type": "stream",
     "text": [
      "e:\\Users\\Timothy\\anaconda3\\Lib\\site-packages\\openpyxl\\worksheet\\header_footer.py:48: UserWarning: Cannot parse header or footer so it will be ignored\n",
      "  warn(\"\"\"Cannot parse header or footer so it will be ignored\"\"\")\n"
     ]
    },
    {
     "name": "stdout",
     "output_type": "stream",
     "text": [
      "Objective Function Value: 8630943.656187767\n",
      "Status: Infeasible\n"
     ]
    },
    {
     "name": "stderr",
     "output_type": "stream",
     "text": [
      "e:\\Users\\Timothy\\anaconda3\\Lib\\site-packages\\openpyxl\\worksheet\\header_footer.py:48: UserWarning: Cannot parse header or footer so it will be ignored\n",
      "  warn(\"\"\"Cannot parse header or footer so it will be ignored\"\"\")\n"
     ]
    },
    {
     "name": "stdout",
     "output_type": "stream",
     "text": [
      "Objective Function Value: 8630943.656187767\n"
     ]
    }
   ],
   "source": [
    "for year in range(2025, 2031):\n",
    "    k = 0.5\n",
    "    min_area_percent = 0.2\n",
    "    max_plots = 4\n",
    "    list = [k, min_area_percent, max_plots, year]\n",
    "\n",
    "    expected_sales_data = update_expected_sales_data(expected_sales_data, expected_sales_data_2023, std_devs)\n",
    "    crops = update_crops(crops, std_devs)\n",
    "\n",
    "    df_last1_result = pd.read_excel(f'../excels/附件3/{year - 1}_result_{k}.xlsx')\n",
    "    df_last1_result.columns = [column.rstrip(' ') for column in df_last1_result.columns]\n",
    "    if year - 2 == 2023:\n",
    "        df_last2_result = pd.read_excel(f'../excels/附件3/2023_result.xlsx')\n",
    "    else:    \n",
    "        df_last2_result = pd.read_excel(f'../excels/附件3/{year - 2}_result_{k}.xlsx')\n",
    "    df_last2_result.columns = [column.rstrip(' ') for column in df_last2_result.columns]\n",
    "    optimize_planting_strategy(new_fields, crops, expected_sales_data, df_last1_result, df_last2_result, list)\n",
    "    objective_value = pulp.value(prob.objective)\n",
    "    print(\"Objective Function Value:\", objective_value)"
   ]
  }
 ],
 "metadata": {
  "kernelspec": {
   "display_name": "base",
   "language": "python",
   "name": "python3"
  },
  "language_info": {
   "codemirror_mode": {
    "name": "ipython",
    "version": 3
   },
   "file_extension": ".py",
   "mimetype": "text/x-python",
   "name": "python",
   "nbconvert_exporter": "python",
   "pygments_lexer": "ipython3",
   "version": "3.11.5"
  }
 },
 "nbformat": 4,
 "nbformat_minor": 2
}
