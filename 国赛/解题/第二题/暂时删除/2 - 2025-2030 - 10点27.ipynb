{
 "cells": [
  {
   "cell_type": "code",
   "execution_count": 1,
   "metadata": {},
   "outputs": [],
   "source": [
    "import sys\n",
    "sys.path.append('../modules/')\n",
    "import pandas as pd\n",
    "import matplotlib.pyplot as plt\n",
    "import pulp\n",
    "from mymodule_2 import *\n",
    "from mymodule2_2 import *\n",
    "from pulp_func_2 import *\n",
    "df2023_result = pd.read_excel('../excels/附件3/2023_result.xlsx')\n",
    "# 去除列名末尾的空格。很奇怪\n",
    "df2023_result.columns = [column.rstrip(' ') for column in df2023_result.columns]\n",
    "# print(df2023_result)"
   ]
  },
  {
   "cell_type": "code",
   "execution_count": 2,
   "metadata": {},
   "outputs": [
    {
     "name": "stdout",
     "output_type": "stream",
     "text": [
      "总利润/元的和: 5926348.25\n"
     ]
    }
   ],
   "source": [
    "# 数据准备\n",
    "\n",
    "merged_df = get_merged_df(df21, df22)\n",
    "# print(merged_df)\n",
    "total_yield_2023 = merged_df.groupby(['作物编号', '作物名称'])['单地块类型总产量/斤'].sum().reset_index()\n",
    "total_yield_2023.columns = ['作物编号', '作物名称', '总产量/斤']\n",
    "# print(total_yield_2023)\n",
    "expected_sales_data_2023 = total_yield_2023.copy()\n",
    "expected_sales_data_2023.columns = ['作物编号', '作物名称', '预期销售量/斤']\n",
    "expected_sales_data = total_yield_2023.copy() # 初始值为2023年的数据\n",
    "# print(expected_sales_data)\n",
    "expected_sales_data.columns = ['作物编号', '作物名称', '预期销售量/斤']\n",
    "\n",
    "# 按照 '作物编号' 和 '作物名称' 进行分组，并对 '利润' 进行求和\n",
    "total_profit = merged_df.groupby(['作物编号', '作物名称'])[['利润', '每亩利润']].sum().reset_index()\n",
    "# 重命名列，以便清晰地表示数据\n",
    "total_profit.columns = ['作物编号', '作物名称', '总利润/元', '每亩总利润/元']\n",
    "# 打印 total_profit\n",
    "# print(total_profit)\n",
    "total_profit_2023 = total_profit['总利润/元'].sum()\n",
    "print(\"总利润/元的和:\", total_profit_2023)\n",
    "std_devs = [0.005, 0.005, 0.01, 0.01, 0.003, 0.003, 0.003, 0.003]\n",
    "past_profits = [total_profit_2023]"
   ]
  },
  {
   "cell_type": "code",
   "execution_count": 3,
   "metadata": {},
   "outputs": [],
   "source": [
    "fields = create_fields(df11)\n",
    "# for field in fields:\n",
    "#     print(field)\n",
    "new_fields = create_new_fields(fields)\n",
    "# for field in new_fields:\n",
    "#     print(field)\n",
    "crops = create_crops(df12, df22)\n",
    "# for crop in crops:\n",
    "#     print(crop)    "
   ]
  },
  {
   "cell_type": "markdown",
   "metadata": {},
   "source": [
    "### 2 - 2024"
   ]
  },
  {
   "cell_type": "code",
   "execution_count": 4,
   "metadata": {},
   "outputs": [],
   "source": [
    "# 更新数据\n",
    "expected_sales_data = update_expected_sales_data(expected_sales_data, expected_sales_data_2023, std_devs)\n",
    "# print(expected_sales_data)\n",
    "crops = update_crops(crops, std_devs)\n",
    "# for crop in crops:\n",
    "#     print(crop)"
   ]
  },
  {
   "cell_type": "code",
   "execution_count": 5,
   "metadata": {},
   "outputs": [
    {
     "name": "stdout",
     "output_type": "stream",
     "text": [
      "Status: Infeasible\n",
      "Objective Function Value: 8754100.7217511\n"
     ]
    },
    {
     "name": "stderr",
     "output_type": "stream",
     "text": [
      "e:\\Users\\Timothy\\anaconda3\\Lib\\site-packages\\openpyxl\\worksheet\\header_footer.py:48: UserWarning: Cannot parse header or footer so it will be ignored\n",
      "  warn(\"\"\"Cannot parse header or footer so it will be ignored\"\"\")\n"
     ]
    }
   ],
   "source": [
    "variables, binary_variables, actual_sales, excess_yield = create_variables(new_fields, crops)\n",
    "# 创建线性规划问题\n",
    "prob = pulp.LpProblem(\"Crop_Planting_Optimization\", pulp.LpMaximize)\n",
    "# 定义目标函数的各个部分\n",
    "k = 0.5\n",
    "min_area_percent = 0.2\n",
    "max_plots = 4\n",
    "profit = define_objective_function(variables, actual_sales, excess_yield, crops, new_fields, k)\n",
    "# 将目标函数添加到问题中\n",
    "prob += profit\n",
    "# print(profit)\n",
    "prob = add_constraints2(prob, variables, binary_variables, actual_sales, excess_yield,\n",
    "                        crops, new_fields, total_yield_2023, df2023_result, min_area_percent, max_plots)\n",
    "\n",
    "# 求解问题\n",
    "prob.solve()\n",
    "print(\"Status:\", pulp.LpStatus[prob.status])\n",
    "update_new_fields(variables, new_fields)\n",
    "\n",
    "objective_value = pulp.value(prob.objective)\n",
    "print(\"Objective Function Value:\", objective_value)\n",
    "past_profits.append(objective_value)\n",
    "scores = [0, 0, 0, 0, 0, 0, 0]\n",
    "weights = [0.9, 0.1]\n",
    "stability = calculate_stability(past_profits)\n",
    "# print(\"Stability:\", stability)\n",
    "if scores[0] < calculate_score(objective_value, stability, weights):\n",
    "    scores[0] = calculate_score(objective_value, stability, weights)\n",
    "    df_template = pd.read_excel('../excels/附件3/template.xlsx')\n",
    "    output(df_template, 2024, new_fields, k)\n",
    "# print(df_template)\n",
    "# print(\"Scores:\", scores)\n",
    "# 清空当年的种植信息\n",
    "for field in new_fields:\n",
    "    field.planted_crop = []\n",
    "    # print(field.planted_crop)"
   ]
  },
  {
   "cell_type": "markdown",
   "metadata": {},
   "source": [
    "### 2 - 2025-2030"
   ]
  },
  {
   "cell_type": "code",
   "execution_count": 6,
   "metadata": {},
   "outputs": [
    {
     "name": "stdout",
     "output_type": "stream",
     "text": [
      "Status: Infeasible\n"
     ]
    },
    {
     "name": "stderr",
     "output_type": "stream",
     "text": [
      "e:\\Users\\Timothy\\anaconda3\\Lib\\site-packages\\openpyxl\\worksheet\\header_footer.py:48: UserWarning: Cannot parse header or footer so it will be ignored\n",
      "  warn(\"\"\"Cannot parse header or footer so it will be ignored\"\"\")\n"
     ]
    },
    {
     "name": "stdout",
     "output_type": "stream",
     "text": [
      "Objective Function Value: 8754100.7217511\n",
      "Status: Infeasible\n"
     ]
    },
    {
     "name": "stderr",
     "output_type": "stream",
     "text": [
      "e:\\Users\\Timothy\\anaconda3\\Lib\\site-packages\\openpyxl\\worksheet\\header_footer.py:48: UserWarning: Cannot parse header or footer so it will be ignored\n",
      "  warn(\"\"\"Cannot parse header or footer so it will be ignored\"\"\")\n"
     ]
    },
    {
     "name": "stdout",
     "output_type": "stream",
     "text": [
      "Objective Function Value: 8754100.7217511\n"
     ]
    }
   ],
   "source": [
    "for year in range(2025, 2027):\n",
    "    k = 0.5\n",
    "    min_area_percent = 0.2\n",
    "    max_plots = 4\n",
    "    list = [k, min_area_percent, max_plots, year]\n",
    "\n",
    "    expected_sales_data = update_expected_sales_data(expected_sales_data, expected_sales_data_2023, std_devs)\n",
    "    crops = update_crops(crops, std_devs)\n",
    "    # print(expected_sales_data)\n",
    "    # print(crops)\n",
    "    df_last1_result = pd.read_excel(f'../excels/附件3/{year - 1}_result_{k}.xlsx')\n",
    "    df_last1_result.columns = [column.rstrip(' ') for column in df_last1_result.columns]\n",
    "    if year - 2 == 2023:\n",
    "        df_last2_result = pd.read_excel(f'../excels/附件3/2023_result.xlsx')\n",
    "    else:    \n",
    "        df_last2_result = pd.read_excel(f'../excels/附件3/{year - 2}_result_{k}.xlsx')\n",
    "    df_last2_result.columns = [column.rstrip(' ') for column in df_last2_result.columns]\n",
    "    optimize_planting_strategy(new_fields, crops, expected_sales_data, df_last1_result, df_last2_result, list)\n",
    "    objective_value = pulp.value(prob.objective)\n",
    "    print(\"Objective Function Value:\", objective_value)"
   ]
  }
 ],
 "metadata": {
  "kernelspec": {
   "display_name": "base",
   "language": "python",
   "name": "python3"
  },
  "language_info": {
   "codemirror_mode": {
    "name": "ipython",
    "version": 3
   },
   "file_extension": ".py",
   "mimetype": "text/x-python",
   "name": "python",
   "nbconvert_exporter": "python",
   "pygments_lexer": "ipython3",
   "version": "3.11.5"
  }
 },
 "nbformat": 4,
 "nbformat_minor": 2
}
