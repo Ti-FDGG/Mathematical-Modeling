{
 "cells": [
  {
   "cell_type": "code",
   "execution_count": 1,
   "metadata": {},
   "outputs": [],
   "source": [
    "import pandas as pd\n",
    "import matplotlib.pyplot as plt\n",
    "import pulp\n",
    "from mymodule import *\n",
    "from pulp_func import *\n",
    "\n",
    "df2023_result = pd.read_excel('../excels/附件3/2023_result.xlsx')\n",
    "# 去除列名末尾的空格。很奇怪\n",
    "df2023_result.columns = [column.rstrip(' ') for column in df2023_result.columns]\n",
    "# print(df2023_result.columns)\n",
    "df2024_result = pd.read_excel('../excels/附件3/2024_result.xlsx')\n",
    "# 去除列名末尾的空格。很奇怪\n",
    "df2024_result.columns = [column.rstrip(' ') for column in df2024_result.columns]\n",
    "# print(df2024_result.columns)"
   ]
  },
  {
   "cell_type": "code",
   "execution_count": 2,
   "metadata": {},
   "outputs": [],
   "source": [
    "result1 = df21.groupby(['作物编号', '地块类型', '种植季次'])['种植面积/亩'].sum().reset_index()\n",
    "result1.columns = ['作物编号', '地块类型', '种植季次', '种植面积/亩']\n",
    "merged_df = pd.merge(result1, df22[['作物编号', '作物名称','作物类型' , '地块类型', '种植季次', '亩产量/斤', '种植成本/(元/亩)', '销售单价/(元/斤)']], on=['作物编号', '种植季次', '地块类型'], how='left')\n",
    "merged_df['单地块类型总产量/斤'] = merged_df['种植面积/亩'] * merged_df['亩产量/斤']\n",
    "merged_df['销售单价平均值'] = merged_df['销售单价/(元/斤)'].apply(calculate_average_price)\n",
    "merged_df['利润'] = (merged_df['销售单价平均值'] * merged_df['单地块类型总产量/斤']) - (merged_df['种植成本/(元/亩)'] * merged_df['种植面积/亩'])\n",
    "merged_df['每亩利润'] = merged_df['利润'] / merged_df['种植面积/亩']\n",
    "# print(merged_df)\n",
    "total_profit_2023 = merged_df.groupby(['作物编号', '作物名称'])[['利润', '每亩利润']].sum().reset_index()\n",
    "total_profit_2023.columns = ['作物编号', '作物名称', '总利润/元', '每亩总利润/元']\n",
    "# print(total_profit)\n",
    "total_yield_2023 = merged_df.groupby(['作物编号', '作物名称'])['单地块类型总产量/斤'].sum().reset_index()\n",
    "total_yield_2023.columns = ['作物编号', '作物名称', '总产量/斤']\n",
    "# print(total_yield_2023)"
   ]
  },
  {
   "cell_type": "code",
   "execution_count": 3,
   "metadata": {},
   "outputs": [],
   "source": [
    "fields = create_fields(df11)\n",
    "# for field in fields:\n",
    "#     print(field)\n",
    "new_fields = create_new_fields(fields)\n",
    "# for field in new_fields:\n",
    "#     print(field)\n",
    "crops = create_crops(df12, df22)\n",
    "# for crop in crops:\n",
    "#     print(crop)    "
   ]
  },
  {
   "cell_type": "code",
   "execution_count": 7,
   "metadata": {},
   "outputs": [
    {
     "name": "stdout",
     "output_type": "stream",
     "text": [
      "Status: Optimal\n"
     ]
    },
    {
     "name": "stderr",
     "output_type": "stream",
     "text": [
      "e:\\Users\\Timothy\\anaconda3\\Lib\\site-packages\\openpyxl\\worksheet\\header_footer.py:48: UserWarning: Cannot parse header or footer so it will be ignored\n",
      "  warn(\"\"\"Cannot parse header or footer so it will be ignored\"\"\")\n"
     ]
    }
   ],
   "source": [
    "list = [0.5, 0.2, 4, 2025]\n",
    "optimize_planting_strategy(new_fields, crops, total_yield_2023, df2024_result, df2023_result, list)"
   ]
  }
 ],
 "metadata": {
  "kernelspec": {
   "display_name": "base",
   "language": "python",
   "name": "python3"
  },
  "language_info": {
   "codemirror_mode": {
    "name": "ipython",
    "version": 3
   },
   "file_extension": ".py",
   "mimetype": "text/x-python",
   "name": "python",
   "nbconvert_exporter": "python",
   "pygments_lexer": "ipython3",
   "version": "3.11.5"
  }
 },
 "nbformat": 4,
 "nbformat_minor": 2
}
