{
 "cells": [
  {
   "cell_type": "code",
   "execution_count": 10,
   "metadata": {},
   "outputs": [],
   "source": [
    "import pandas as pd\n",
    "import matplotlib.pyplot as plt\n",
    "import pulp\n",
    "import sys\n",
    "sys.path.append('../modules/')\n",
    "from mymodule import *\n",
    "from pulp_func import *\n",
    "\n",
    "df2023_result = pd.read_excel('../excels/附件3/2023_result.xlsx')\n",
    "# 去除列名末尾的空格。很奇怪\n",
    "df2023_result.columns = [column.rstrip(' ') for column in df2023_result.columns]\n",
    "# print(df2023_result)"
   ]
  },
  {
   "cell_type": "code",
   "execution_count": 11,
   "metadata": {},
   "outputs": [],
   "source": [
    "result1 = df21.groupby(['作物编号', '地块类型', '种植季次'])['种植面积/亩'].sum().reset_index()\n",
    "result1.columns = ['作物编号', '地块类型', '种植季次', '种植面积/亩']\n",
    "merged_df = pd.merge(result1, df22[['作物编号', '作物名称','作物类型' , '地块类型', '种植季次', '亩产量/斤', '种植成本/(元/亩)', '销售单价/(元/斤)']], on=['作物编号', '种植季次', '地块类型'], how='left')\n",
    "merged_df['单地块类型总产量/斤'] = merged_df['种植面积/亩'] * merged_df['亩产量/斤']\n",
    "merged_df['销售单价平均值'] = merged_df['销售单价/(元/斤)'].apply(calculate_average_price)\n",
    "merged_df['利润'] = (merged_df['销售单价平均值'] * merged_df['单地块类型总产量/斤']) - (merged_df['种植成本/(元/亩)'] * merged_df['种植面积/亩'])\n",
    "merged_df['每亩利润'] = merged_df['利润'] / merged_df['种植面积/亩']\n",
    "# print(merged_df)\n",
    "total_profit_2023 = merged_df.groupby(['作物编号', '作物名称'])[['利润', '每亩利润']].sum().reset_index()\n",
    "total_profit_2023.columns = ['作物编号', '作物名称', '总利润/元', '每亩总利润/元']\n",
    "# print(total_profit)\n",
    "total_yield_2023 = merged_df.groupby(['作物编号', '作物名称'])['单地块类型总产量/斤'].sum().reset_index()\n",
    "total_yield_2023.columns = ['作物编号', '作物名称', '总产量/斤']\n",
    "# print(total_yield_2023)"
   ]
  },
  {
   "cell_type": "code",
   "execution_count": 12,
   "metadata": {},
   "outputs": [],
   "source": [
    "fields = create_fields(df11)\n",
    "# for field in fields:\n",
    "#     print(field)\n",
    "new_fields = create_new_fields(fields)\n",
    "# for field in new_fields:\n",
    "#     print(field)\n",
    "crops = create_crops(df12, df22)\n",
    "# for crop in crops:\n",
    "#     print(crop)    "
   ]
  },
  {
   "cell_type": "code",
   "execution_count": 13,
   "metadata": {},
   "outputs": [
    {
     "name": "stdout",
     "output_type": "stream",
     "text": [
      "A1 单季 黄豆\n",
      "Yield for 黄豆 in A1: 400\n",
      "Cost for 黄豆 in A1: 400\n",
      "Total yield for 黄豆 in 2023: 57000.0\n",
      "A1 黄豆 True\n",
      "True\n",
      "False\n"
     ]
    }
   ],
   "source": [
    "# 示例调用\n",
    "\n",
    "fieldtest = new_fields[-0]\n",
    "croptest = crops[0]\n",
    "print(fieldtest.field_name, fieldtest.season, croptest.crop_name)\n",
    "yield_value = get_yield(fieldtest, croptest)\n",
    "cost_value = get_cost(fieldtest, croptest)\n",
    "print(f\"Yield for {croptest.crop_name} in {fieldtest.field_name}: {yield_value}\")\n",
    "print(f\"Cost for {croptest.crop_name} in {fieldtest.field_name}: {cost_value}\")\n",
    "total_yield = get_expected_sales(croptest, total_yield_2023)\n",
    "print(f\"Total yield for {croptest.crop_name} in 2023: {total_yield}\")\n",
    "print(f\"{fieldtest.field_name} {croptest.crop_name} {check_crop_constraints(fieldtest, croptest)}\")\n",
    "print(check_rotation_constraints(new_fields[0], crops[0], df2023_result)) # 黄豆2023年第一季在A1地块未种植\n",
    "print(check_rotation_constraints(new_fields[0], crops[5], df2023_result)) # 小麦2023年第一季在A1地块种植"
   ]
  },
  {
   "cell_type": "code",
   "execution_count": 14,
   "metadata": {},
   "outputs": [],
   "source": [
    "variables, binary_variables, actual_sales, excess_yield = create_variables(new_fields, crops)\n",
    "# 创建线性规划问题\n",
    "prob = pulp.LpProblem(\"Crop_Planting_Optimization\", pulp.LpMaximize)"
   ]
  },
  {
   "cell_type": "code",
   "execution_count": 15,
   "metadata": {},
   "outputs": [],
   "source": [
    "# 定义目标函数的各个部分\n",
    "\n",
    "# 收入部分：实际销售量 * 作物价格\n",
    "revenue = pulp.lpSum([\n",
    "    actual_sales[crop.crop_name] * crop.crop_price\n",
    "    for crop in crops\n",
    "])\n",
    "\n",
    "# 成本部分：种植成本\n",
    "cost = pulp.lpSum([\n",
    "    variables[(field.field_name, crop.crop_name, field.season)] * get_cost(field, crop)\n",
    "    for field in new_fields for crop in crops\n",
    "])\n",
    "\n",
    "# 超额部分处理：超额部分 * 作物价格 * 系数\n",
    "k = 0  # 系数\n",
    "excess_handling = pulp.lpSum([\n",
    "    excess_yield[crop.crop_name] * crop.crop_price * k\n",
    "    for crop in crops\n",
    "])\n",
    "\n",
    "# 总利润 = 收入 - 成本 + 超额部分处理\n",
    "profit = revenue - cost + excess_handling\n",
    "\n",
    "# 将目标函数添加到问题中\n",
    "prob += profit\n",
    "\n",
    "# print(profit)"
   ]
  },
  {
   "cell_type": "code",
   "execution_count": 16,
   "metadata": {},
   "outputs": [],
   "source": [
    "# 添加约束条件\n",
    "# 地块面积限制\n",
    "for field in new_fields:\n",
    "    prob += pulp.lpSum([variables[(field.field_name, crop.crop_name, field.season)] for crop in crops]) <= field.field_area\n",
    "\n",
    "# 作物种植限制\n",
    "for field in new_fields:\n",
    "    for crop in crops:\n",
    "        if not check_crop_constraints(field, crop):\n",
    "            prob += variables[(field.field_name, crop.crop_name, field.season)] == 0\n",
    "\n",
    "# 重茬限制\n",
    "for field in new_fields:\n",
    "    for crop in crops:\n",
    "        if not check_rotation_constraints(field, crop, df2023_result):\n",
    "            prob += variables[(field.field_name, crop.crop_name, field.season)] == 0\n",
    "\n",
    "# 豆类作物种植要求\n",
    "# for field in new_fields:\n",
    "#     prob += pulp.lpSum([variables[(field.field_name, crop.crop_name, field.season)] \n",
    "#                         for crop in crops if crop.crop_type in ['粮食（豆类）', '蔬菜（豆类）']]) >= 1\n",
    "\n",
    "# 实际销售量约束\n",
    "for crop in crops:\n",
    "    actual_yield = pulp.lpSum([\n",
    "        variables[(field.field_name, crop.crop_name, field.season)] * get_yield(field, crop)\n",
    "        for field in new_fields\n",
    "    ])\n",
    "    expected_sales = get_expected_sales(crop, total_yield_2023)\n",
    "    prob += actual_sales[crop.crop_name] <= actual_yield\n",
    "    prob += actual_sales[crop.crop_name] <= expected_sales\n",
    "\n",
    "    # 超额部分约束\n",
    "    prob += excess_yield[crop.crop_name] == actual_yield - expected_sales # 这里不是>=，应该是==？！\n",
    "    prob += excess_yield[crop.crop_name] >= 0\n",
    "\n",
    "# # 作物在单个地块某一季节种植面积不宜太小\n",
    "# min_area_percent = 0.2\n",
    "# for field in new_fields:\n",
    "#     for crop in crops:\n",
    "#         var = variables[(field.field_name, crop.crop_name, field.season)]\n",
    "#         binary_var = binary_variables[(field.field_name, crop.crop_name, field.season)]\n",
    "#         min_area = min_area_percent * field.field_area\n",
    "#         prob += var >= min_area * binary_var\n",
    "#         prob += var <= field.field_area * binary_var\n",
    "\n",
    "# 作物种植不宜太分散\n",
    "max_plots = 4\n",
    "for crop in crops:\n",
    "    for field_type in set(field.field_type for field in new_fields):\n",
    "        if field_type not in ['普通大棚', '智慧大棚']:\n",
    "            prob += pulp.lpSum([\n",
    "                binary_variables[(field.field_name, crop.crop_name, field.season)]\n",
    "                for field in new_fields if field.field_type == field_type\n",
    "            ]) <= max_plots"
   ]
  },
  {
   "cell_type": "code",
   "execution_count": 17,
   "metadata": {},
   "outputs": [
    {
     "name": "stdout",
     "output_type": "stream",
     "text": [
      "Status: Optimal\n"
     ]
    }
   ],
   "source": [
    "# 求解问题\n",
    "prob.solve()\n",
    "print(\"Status:\", pulp.LpStatus[prob.status])\n",
    "# print(\"Objective:\", pulp.value(prob.objective))\n",
    "\n",
    "# 打印所有变量及其值\n",
    "# for v in prob.variables():\n",
    "#     print(v.name, \"=\", v.varValue)\n",
    "\n",
    "# for v in prob.variables():\n",
    "#     if v.varValue > 0:\n",
    "#         print(v.name, \"=\", v.varValue)\n",
    "\n",
    "# 打印所有约束条件\n",
    "# for name, constraint in prob.constraints.items():\n",
    "#     print(f\"{name}: {constraint}\")\n",
    "\n",
    "# 打印模型的详细信息\n",
    "# print(prob)"
   ]
  },
  {
   "cell_type": "code",
   "execution_count": 20,
   "metadata": {},
   "outputs": [
    {
     "name": "stderr",
     "output_type": "stream",
     "text": [
      "e:\\Users\\Timothy\\anaconda3\\Lib\\site-packages\\openpyxl\\worksheet\\header_footer.py:48: UserWarning: Cannot parse header or footer so it will be ignored\n",
      "  warn(\"\"\"Cannot parse header or footer so it will be ignored\"\"\")\n"
     ]
    }
   ],
   "source": [
    "update_new_fields(variables, new_fields)\n",
    "# 打印结果\n",
    "# for field in new_fields:\n",
    "#     print(field.field_name, field.season, field.planted_crop)\n",
    "df_template = pd.read_excel('../excels/附件3/template.xlsx')\n",
    "output(df_template, 2024, new_fields, k)\n",
    "# print(df_template)"
   ]
  }
 ],
 "metadata": {
  "kernelspec": {
   "display_name": "base",
   "language": "python",
   "name": "python3"
  },
  "language_info": {
   "codemirror_mode": {
    "name": "ipython",
    "version": 3
   },
   "file_extension": ".py",
   "mimetype": "text/x-python",
   "name": "python",
   "nbconvert_exporter": "python",
   "pygments_lexer": "ipython3",
   "version": "3.11.5"
  }
 },
 "nbformat": 4,
 "nbformat_minor": 2
}
