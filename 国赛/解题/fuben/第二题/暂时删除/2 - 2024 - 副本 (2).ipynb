{
 "cells": [
  {
   "cell_type": "code",
   "execution_count": 1,
   "metadata": {},
   "outputs": [],
   "source": [
    "import numpy as np\n",
    "import pandas as pd\n",
    "import matplotlib.pyplot as plt\n",
    "import pulp\n",
    "import sys\n",
    "sys.path.append('../modules/')\n",
    "from mymodule import *\n",
    "from mymodule2 import *\n",
    "from pulp_func import *\n",
    "\n",
    "df2023_result = pd.read_excel('../excels/附件3/2023_result.xlsx')\n",
    "# 去除列名末尾的空格。很奇怪\n",
    "df2023_result.columns = [column.rstrip(' ') for column in df2023_result.columns]\n",
    "# print(df2023_result)"
   ]
  },
  {
   "cell_type": "code",
   "execution_count": 2,
   "metadata": {},
   "outputs": [],
   "source": [
    "merged_df = get_merged_df(df21, df22)\n",
    "# print(merged_df)\n",
    "total_yield_2023 = merged_df.groupby(['作物编号', '作物名称'])['单地块类型总产量/斤'].sum().reset_index()\n",
    "total_yield_2023.columns = ['作物编号', '作物名称', '总产量/斤']\n",
    "# print(total_yield_2023)\n",
    "expected_sales_2023 = total_yield_2023.copy()\n",
    "expected_sales_2023.columns = ['作物编号', '作物名称', '预期销售量/斤']\n",
    "expected_sales = total_yield_2023.copy()\n",
    "expected_sales.columns = ['作物编号', '作物名称', '预期销售量/斤']\n",
    "std_devs = [0.005, 0.005, 0.01, 0.01, 0.003, 0.003, 0.003, 0.003]"
   ]
  },
  {
   "cell_type": "code",
   "execution_count": 7,
   "metadata": {},
   "outputs": [],
   "source": [
    "fields = create_fields(df11)\n",
    "# for field in fields:\n",
    "#     print(field)\n",
    "new_fields = create_new_fields(fields)\n",
    "# for field in new_fields:\n",
    "#     print(field)\n",
    "crops = create_crops(df12, df22)\n",
    "# for crop in crops:\n",
    "#     print(crop)    "
   ]
  },
  {
   "cell_type": "code",
   "execution_count": 8,
   "metadata": {},
   "outputs": [],
   "source": [
    "variables, binary_variables, actual_sales, excess_yield = create_variables(new_fields, crops)\n",
    "# 创建线性规划问题\n",
    "prob = pulp.LpProblem(\"Crop_Planting_Optimization\", pulp.LpMaximize)"
   ]
  },
  {
   "cell_type": "code",
   "execution_count": 9,
   "metadata": {},
   "outputs": [],
   "source": [
    "# 定义目标函数的各个部分\n",
    "k = 0.5\n",
    "min_area_percent = 0.2\n",
    "max_plots = 4\n",
    "profit = define_objective_function(variables, actual_sales, excess_yield, crops, new_fields, k)\n",
    "# 将目标函数添加到问题中\n",
    "prob += profit\n",
    "# print(profit)\n",
    "prob = add_constraints2(prob, variables, binary_variables, actual_sales, excess_yield,\n",
    "                        crops, new_fields, total_yield_2023, df2023_result, min_area_percent, max_plots)"
   ]
  },
  {
   "cell_type": "code",
   "execution_count": 10,
   "metadata": {},
   "outputs": [
    {
     "name": "stdout",
     "output_type": "stream",
     "text": [
      "Status: Optimal\n"
     ]
    }
   ],
   "source": [
    "# 求解问题\n",
    "prob.solve()\n",
    "print(\"Status:\", pulp.LpStatus[prob.status])"
   ]
  },
  {
   "cell_type": "code",
   "execution_count": 11,
   "metadata": {},
   "outputs": [
    {
     "name": "stderr",
     "output_type": "stream",
     "text": [
      "e:\\Users\\Timothy\\anaconda3\\Lib\\site-packages\\openpyxl\\worksheet\\header_footer.py:48: UserWarning: Cannot parse header or footer so it will be ignored\n",
      "  warn(\"\"\"Cannot parse header or footer so it will be ignored\"\"\")\n"
     ]
    }
   ],
   "source": [
    "update_new_fields(variables, new_fields)\n",
    "# 打印结果\n",
    "# for field in new_fields:\n",
    "#     print(field.field_name, field.season, field.planted_crop)\n",
    "df_template = pd.read_excel('../excels/附件3/template.xlsx')\n",
    "output(df_template, 2024, new_fields, k)\n",
    "# print(df_template)"
   ]
  }
 ],
 "metadata": {
  "kernelspec": {
   "display_name": "base",
   "language": "python",
   "name": "python3"
  },
  "language_info": {
   "codemirror_mode": {
    "name": "ipython",
    "version": 3
   },
   "file_extension": ".py",
   "mimetype": "text/x-python",
   "name": "python",
   "nbconvert_exporter": "python",
   "pygments_lexer": "ipython3",
   "version": "3.11.5"
  }
 },
 "nbformat": 4,
 "nbformat_minor": 2
}
