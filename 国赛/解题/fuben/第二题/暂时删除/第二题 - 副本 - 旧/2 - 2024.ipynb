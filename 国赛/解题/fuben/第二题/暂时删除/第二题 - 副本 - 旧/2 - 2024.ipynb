{
 "cells": [
  {
   "cell_type": "code",
   "execution_count": 8,
   "metadata": {},
   "outputs": [],
   "source": [
    "import numpy as np\n",
    "import pandas as pd\n",
    "import matplotlib.pyplot as plt\n",
    "import pulp\n",
    "import sys\n",
    "sys.path.append('../modules/')\n",
    "from mymodule_2 import *\n",
    "from mymodule2_2 import *\n",
    "from pulp_func_2 import *\n",
    "\n",
    "df2023_result = pd.read_excel('../excels/附件3/2023_result.xlsx')\n",
    "# 去除列名末尾的空格。很奇怪\n",
    "df2023_result.columns = [column.rstrip(' ') for column in df2023_result.columns]\n",
    "# print(df2023_result)"
   ]
  },
  {
   "cell_type": "code",
   "execution_count": 2,
   "metadata": {},
   "outputs": [
    {
     "name": "stdout",
     "output_type": "stream",
     "text": [
      "    作物编号 作物名称     总产量/斤\n",
      "0      1   黄豆   57000.0\n",
      "1      2   黑豆   21850.0\n",
      "2      3   红豆   22400.0\n",
      "3      4   绿豆   33040.0\n",
      "4      5   爬豆    9875.0\n",
      "5      6   小麦  170840.0\n",
      "6      7   玉米  132750.0\n",
      "7      8   谷子   71400.0\n",
      "8      9   高粱   30000.0\n",
      "9     10   黍子   12500.0\n",
      "10    11   荞麦    1500.0\n",
      "11    12   南瓜   35100.0\n",
      "12    13   红薯   36000.0\n",
      "13    14   莜麦   14000.0\n",
      "14    15   大麦   10000.0\n",
      "15    16   水稻   21000.0\n",
      "16    17   豇豆   36480.0\n",
      "17    18   刀豆   26880.0\n",
      "18    19   芸豆    6480.0\n",
      "19    20   土豆   30000.0\n",
      "20    21  西红柿   36210.0\n",
      "21    22   茄子   45360.0\n",
      "22    23  菠菜      900.0\n",
      "23    24   青椒    2610.0\n",
      "24    25   菜花    3600.0\n",
      "25    26   包菜    4050.0\n",
      "26    27  油麦菜    4500.0\n",
      "27    28  小青菜   35480.0\n",
      "28    29   黄瓜   13050.0\n",
      "29    30  生菜     2850.0\n",
      "30    31   辣椒    1200.0\n",
      "31    32  空心菜    3600.0\n",
      "32    33  黄心菜    1800.0\n",
      "33    34   芹菜    1800.0\n",
      "34    35  大白菜  150000.0\n",
      "35    36  白萝卜  100000.0\n",
      "36    37  红萝卜   36000.0\n",
      "37    38  榆黄菇    9000.0\n",
      "38    39   香菇    7200.0\n",
      "39    40  白灵菇   18000.0\n",
      "40    41  羊肚菌    4200.0\n"
     ]
    }
   ],
   "source": [
    "merged_df = get_merged_df(df21, df22)\n",
    "# print(merged_df)\n",
    "total_yield_2023 = merged_df.groupby(['作物编号', '作物名称'])['单地块类型总产量/斤'].sum().reset_index()\n",
    "total_yield_2023.columns = ['作物编号', '作物名称', '总产量/斤']\n",
    "print(total_yield_2023)\n",
    "expected_sales_2023 = total_yield_2023.copy()\n",
    "expected_sales_2023.columns = ['作物编号', '作物名称', '预期销售量/斤']\n",
    "expected_sales = total_yield_2023.copy()\n",
    "expected_sales.columns = ['作物编号', '作物名称', '预期销售量/斤']\n",
    "std_devs = [0.005, 0.005, 0.01, 0.01, 0.003, 0.003, 0.003, 0.003]"
   ]
  },
  {
   "cell_type": "code",
   "execution_count": 3,
   "metadata": {},
   "outputs": [],
   "source": [
    "fields = create_fields(df11)\n",
    "# for field in fields:\n",
    "#     print(field)\n",
    "new_fields = create_new_fields(fields)\n",
    "# for field in new_fields:\n",
    "#     print(field)\n",
    "crops = create_crops(df12, df22)\n",
    "# for crop in crops:\n",
    "#     print(crop)    "
   ]
  },
  {
   "cell_type": "code",
   "execution_count": 4,
   "metadata": {},
   "outputs": [],
   "source": [
    "variables, binary_variables, actual_sales, excess_yield = create_variables(new_fields, crops)\n",
    "# 创建线性规划问题\n",
    "prob = pulp.LpProblem(\"Crop_Planting_Optimization\", pulp.LpMaximize)\n",
    "# 定义目标函数的各个部分\n",
    "k = 0.5\n",
    "min_area_percent = 0.2\n",
    "max_plots = 4\n",
    "profit = define_objective_function(variables, actual_sales, excess_yield, crops, new_fields, k)\n",
    "# 将目标函数添加到问题中\n",
    "prob += profit\n",
    "# print(profit)\n",
    "prob = add_constraints2(prob, variables, binary_variables, actual_sales, excess_yield,\n",
    "                        crops, new_fields, total_yield_2023, df2023_result, min_area_percent, max_plots)"
   ]
  },
  {
   "cell_type": "code",
   "execution_count": 6,
   "metadata": {},
   "outputs": [
    {
     "name": "stdout",
     "output_type": "stream",
     "text": [
      "Status: Optimal\n"
     ]
    },
    {
     "name": "stderr",
     "output_type": "stream",
     "text": [
      "e:\\Users\\Timothy\\anaconda3\\Lib\\site-packages\\openpyxl\\worksheet\\header_footer.py:48: UserWarning: Cannot parse header or footer so it will be ignored\n",
      "  warn(\"\"\"Cannot parse header or footer so it will be ignored\"\"\")\n"
     ]
    }
   ],
   "source": [
    "# 求解问题\n",
    "prob.solve()\n",
    "print(\"Status:\", pulp.LpStatus[prob.status])\n",
    "update_new_fields(variables, new_fields)\n",
    "# 打印结果\n",
    "# for field in new_fields:\n",
    "#     print(field.field_name, field.season, field.planted_crop)\n",
    "df_template = pd.read_excel('../excels/附件3/template.xlsx')\n",
    "output(df_template, 2024, new_fields, k)\n",
    "# print(df_template)"
   ]
  }
 ],
 "metadata": {
  "kernelspec": {
   "display_name": "base",
   "language": "python",
   "name": "python3"
  },
  "language_info": {
   "codemirror_mode": {
    "name": "ipython",
    "version": 3
   },
   "file_extension": ".py",
   "mimetype": "text/x-python",
   "name": "python",
   "nbconvert_exporter": "python",
   "pygments_lexer": "ipython3",
   "version": "3.11.5"
  }
 },
 "nbformat": 4,
 "nbformat_minor": 2
}
