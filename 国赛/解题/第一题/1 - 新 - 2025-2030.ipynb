{
 "cells": [
  {
   "cell_type": "code",
   "execution_count": 1,
   "metadata": {},
   "outputs": [],
   "source": [
    "import sys\n",
    "sys.path.append('../modules/')\n",
    "import pandas as pd\n",
    "import matplotlib.pyplot as plt\n",
    "import pulp\n",
    "from mymodule import *\n",
    "from pulp_func import *"
   ]
  },
  {
   "cell_type": "code",
   "execution_count": 2,
   "metadata": {},
   "outputs": [],
   "source": [
    "result1 = df21.groupby(['作物编号', '地块类型', '种植季次'])['种植面积/亩'].sum().reset_index()\n",
    "result1.columns = ['作物编号', '地块类型', '种植季次', '种植面积/亩']\n",
    "merged_df = pd.merge(result1, df22[['作物编号', '作物名称','作物类型' , '地块类型', '种植季次', '亩产量/斤', '种植成本/(元/亩)', '销售单价/(元/斤)']], on=['作物编号', '种植季次', '地块类型'], how='left')\n",
    "merged_df['单地块类型总产量/斤'] = merged_df['种植面积/亩'] * merged_df['亩产量/斤']\n",
    "merged_df['销售单价平均值'] = merged_df['销售单价/(元/斤)'].apply(calculate_average_price)\n",
    "merged_df['利润'] = (merged_df['销售单价平均值'] * merged_df['单地块类型总产量/斤']) - (merged_df['种植成本/(元/亩)'] * merged_df['种植面积/亩'])\n",
    "merged_df['每亩利润'] = merged_df['利润'] / merged_df['种植面积/亩']\n",
    "# print(merged_df)\n",
    "total_profit_2023 = merged_df.groupby(['作物编号', '作物名称'])[['利润', '每亩利润']].sum().reset_index()\n",
    "total_profit_2023.columns = ['作物编号', '作物名称', '总利润/元', '每亩总利润/元']\n",
    "# print(total_profit)\n",
    "total_yield_2023 = merged_df.groupby(['作物编号', '作物名称'])['单地块类型总产量/斤'].sum().reset_index()\n",
    "total_yield_2023.columns = ['作物编号', '作物名称', '总产量/斤']\n",
    "# print(total_yield_2023)"
   ]
  },
  {
   "cell_type": "code",
   "execution_count": 3,
   "metadata": {},
   "outputs": [],
   "source": [
    "fields = create_fields(df11)\n",
    "# for field in fields:\n",
    "#     print(field)\n",
    "new_fields = create_new_fields(fields)\n",
    "# for field in new_fields:\n",
    "#     print(field)\n",
    "crops = create_crops(df12, df22)\n",
    "# for crop in crops:\n",
    "#     print(crop)    "
   ]
  },
  {
   "cell_type": "code",
   "execution_count": 4,
   "metadata": {},
   "outputs": [
    {
     "name": "stdout",
     "output_type": "stream",
     "text": [
      "Status: Optimal\n"
     ]
    },
    {
     "name": "stderr",
     "output_type": "stream",
     "text": [
      "e:\\Users\\Timothy\\anaconda3\\Lib\\site-packages\\openpyxl\\worksheet\\header_footer.py:48: UserWarning: Cannot parse header or footer so it will be ignored\n",
      "  warn(\"\"\"Cannot parse header or footer so it will be ignored\"\"\")\n"
     ]
    },
    {
     "ename": "KeyboardInterrupt",
     "evalue": "",
     "output_type": "error",
     "traceback": [
      "\u001b[1;31m---------------------------------------------------------------------------\u001b[0m",
      "\u001b[1;31mKeyboardInterrupt\u001b[0m                         Traceback (most recent call last)",
      "Cell \u001b[1;32mIn[4], line 14\u001b[0m\n\u001b[0;32m     12\u001b[0m     df_last2_result \u001b[38;5;241m=\u001b[39m pd\u001b[38;5;241m.\u001b[39mread_excel(\u001b[38;5;124mf\u001b[39m\u001b[38;5;124m'\u001b[39m\u001b[38;5;124m../excels/附件3/\u001b[39m\u001b[38;5;132;01m{\u001b[39;00myear\u001b[38;5;250m \u001b[39m\u001b[38;5;241m-\u001b[39m\u001b[38;5;250m \u001b[39m\u001b[38;5;241m2\u001b[39m\u001b[38;5;132;01m}\u001b[39;00m\u001b[38;5;124m_result_\u001b[39m\u001b[38;5;132;01m{\u001b[39;00mk\u001b[38;5;132;01m}\u001b[39;00m\u001b[38;5;124m.xlsx\u001b[39m\u001b[38;5;124m'\u001b[39m)\n\u001b[0;32m     13\u001b[0m df_last2_result\u001b[38;5;241m.\u001b[39mcolumns \u001b[38;5;241m=\u001b[39m [column\u001b[38;5;241m.\u001b[39mrstrip(\u001b[38;5;124m'\u001b[39m\u001b[38;5;124m \u001b[39m\u001b[38;5;124m'\u001b[39m) \u001b[38;5;28;01mfor\u001b[39;00m column \u001b[38;5;129;01min\u001b[39;00m df_last2_result\u001b[38;5;241m.\u001b[39mcolumns]\n\u001b[1;32m---> 14\u001b[0m \u001b[43moptimize_planting_strategy\u001b[49m\u001b[43m(\u001b[49m\u001b[43mnew_fields\u001b[49m\u001b[43m,\u001b[49m\u001b[43m \u001b[49m\u001b[43mcrops\u001b[49m\u001b[43m,\u001b[49m\u001b[43m \u001b[49m\u001b[43mexpected_sales\u001b[49m\u001b[43m,\u001b[49m\u001b[43m \u001b[49m\u001b[43mdf_last1_result\u001b[49m\u001b[43m,\u001b[49m\u001b[43m \u001b[49m\u001b[43mdf_last2_result\u001b[49m\u001b[43m,\u001b[49m\u001b[43m \u001b[49m\u001b[38;5;28;43mlist\u001b[39;49m\u001b[43m)\u001b[49m\n\u001b[0;32m     15\u001b[0m \u001b[38;5;66;03m# 清空当年的种植信息\u001b[39;00m\n\u001b[0;32m     16\u001b[0m \u001b[38;5;28;01mfor\u001b[39;00m field \u001b[38;5;129;01min\u001b[39;00m new_fields:\n",
      "File \u001b[1;32mc:\\Users\\Timothy\\Desktop\\python\\国赛\\解题\\第一题\\pulp_func.py:238\u001b[0m, in \u001b[0;36moptimize_planting_strategy\u001b[1;34m(new_fields, crops, expected_sales, df_last1_result, df_last2_result, params_list)\u001b[0m\n\u001b[0;32m    235\u001b[0m prob \u001b[38;5;241m+\u001b[39m\u001b[38;5;241m=\u001b[39m profit\n\u001b[0;32m    237\u001b[0m \u001b[38;5;66;03m# 添加约束条件\u001b[39;00m\n\u001b[1;32m--> 238\u001b[0m prob \u001b[38;5;241m=\u001b[39m \u001b[43madd_constraints\u001b[49m\u001b[43m(\u001b[49m\u001b[43mprob\u001b[49m\u001b[43m,\u001b[49m\u001b[43m \u001b[49m\u001b[43mvariables\u001b[49m\u001b[43m,\u001b[49m\u001b[43m \u001b[49m\u001b[43mbinary_variables\u001b[49m\u001b[43m,\u001b[49m\u001b[43m \u001b[49m\u001b[43mactual_sales\u001b[49m\u001b[43m,\u001b[49m\u001b[43m \u001b[49m\n\u001b[0;32m    239\u001b[0m \u001b[43m                       \u001b[49m\u001b[43mexcess_yield\u001b[49m\u001b[43m,\u001b[49m\u001b[43m \u001b[49m\u001b[43mcrops\u001b[49m\u001b[43m,\u001b[49m\u001b[43m \u001b[49m\u001b[43mnew_fields\u001b[49m\u001b[43m,\u001b[49m\u001b[43m \u001b[49m\u001b[43mexpected_sales\u001b[49m\u001b[43m,\u001b[49m\u001b[43m \u001b[49m\u001b[43mdf_last1_result\u001b[49m\u001b[43m,\u001b[49m\u001b[43m \u001b[49m\u001b[43mdf_last2_result\u001b[49m\u001b[43m,\u001b[49m\n\u001b[0;32m    240\u001b[0m \u001b[43m                       \u001b[49m\u001b[43mmin_area_percent\u001b[49m\u001b[43m,\u001b[49m\u001b[43m \u001b[49m\u001b[43mmax_plots\u001b[49m\u001b[43m)\u001b[49m\n\u001b[0;32m    242\u001b[0m \u001b[38;5;66;03m# 求解问题\u001b[39;00m\n\u001b[0;32m    243\u001b[0m prob\u001b[38;5;241m.\u001b[39msolve()\n",
      "File \u001b[1;32mc:\\Users\\Timothy\\Desktop\\python\\国赛\\解题\\第一题\\pulp_func.py:91\u001b[0m, in \u001b[0;36madd_constraints\u001b[1;34m(prob, variables, binary_variables, actual_sales, excess_yield, crops, new_fields, expected_sales_data, df_last1_result, df_last2_result, min_area_percent, max_plots)\u001b[0m\n\u001b[0;32m     89\u001b[0m \u001b[38;5;28;01mfor\u001b[39;00m field \u001b[38;5;129;01min\u001b[39;00m new_fields:\n\u001b[0;32m     90\u001b[0m     \u001b[38;5;28;01mfor\u001b[39;00m crop \u001b[38;5;129;01min\u001b[39;00m crops:\n\u001b[1;32m---> 91\u001b[0m         \u001b[38;5;28;01mif\u001b[39;00m \u001b[38;5;129;01mnot\u001b[39;00m \u001b[43mcheck_rotation_constraints\u001b[49m\u001b[43m(\u001b[49m\u001b[43mfield\u001b[49m\u001b[43m,\u001b[49m\u001b[43m \u001b[49m\u001b[43mcrop\u001b[49m\u001b[43m,\u001b[49m\u001b[43m \u001b[49m\u001b[43mdf_last1_result\u001b[49m\u001b[43m)\u001b[49m:\n\u001b[0;32m     92\u001b[0m             prob \u001b[38;5;241m+\u001b[39m\u001b[38;5;241m=\u001b[39m variables[(field\u001b[38;5;241m.\u001b[39mfield_name, crop\u001b[38;5;241m.\u001b[39mcrop_name, field\u001b[38;5;241m.\u001b[39mseason)] \u001b[38;5;241m==\u001b[39m \u001b[38;5;241m0\u001b[39m\n\u001b[0;32m     94\u001b[0m \u001b[38;5;66;03m# 豆类作物种植要求\u001b[39;00m\n",
      "File \u001b[1;32mc:\\Users\\Timothy\\Desktop\\python\\国赛\\解题\\第一题\\mymodule.py:188\u001b[0m, in \u001b[0;36mcheck_rotation_constraints\u001b[1;34m(field, crop, df_last_result)\u001b[0m\n\u001b[0;32m    185\u001b[0m     season \u001b[38;5;241m=\u001b[39m \u001b[38;5;124m'\u001b[39m\u001b[38;5;124m第一季\u001b[39m\u001b[38;5;124m'\u001b[39m\n\u001b[0;32m    187\u001b[0m \u001b[38;5;66;03m# 检查 df2024_result 中对应地块、季次和作物的种植面积\u001b[39;00m\n\u001b[1;32m--> 188\u001b[0m \u001b[38;5;28;01mfor\u001b[39;00m index, row \u001b[38;5;129;01min\u001b[39;00m df_last_result\u001b[38;5;241m.\u001b[39miterrows():\n\u001b[0;32m    189\u001b[0m     \u001b[38;5;28;01mif\u001b[39;00m row[\u001b[38;5;124m'\u001b[39m\u001b[38;5;124m种植地块\u001b[39m\u001b[38;5;124m'\u001b[39m] \u001b[38;5;241m==\u001b[39m field_name \u001b[38;5;129;01mand\u001b[39;00m row[\u001b[38;5;124m'\u001b[39m\u001b[38;5;124m种植季次\u001b[39m\u001b[38;5;124m'\u001b[39m] \u001b[38;5;241m==\u001b[39m season \u001b[38;5;129;01mand\u001b[39;00m row[crop_name] \u001b[38;5;241m>\u001b[39m \u001b[38;5;241m0\u001b[39m:\n\u001b[0;32m    190\u001b[0m         \u001b[38;5;28;01mreturn\u001b[39;00m \u001b[38;5;28;01mFalse\u001b[39;00m  \u001b[38;5;66;03m# 如果种植面积不为0，返回 False\u001b[39;00m\n",
      "File \u001b[1;32me:\\Users\\Timothy\\anaconda3\\Lib\\site-packages\\pandas\\core\\frame.py:1399\u001b[0m, in \u001b[0;36mDataFrame.iterrows\u001b[1;34m(self)\u001b[0m\n\u001b[0;32m   1397\u001b[0m klass \u001b[38;5;241m=\u001b[39m \u001b[38;5;28mself\u001b[39m\u001b[38;5;241m.\u001b[39m_constructor_sliced\n\u001b[0;32m   1398\u001b[0m using_cow \u001b[38;5;241m=\u001b[39m using_copy_on_write()\n\u001b[1;32m-> 1399\u001b[0m \u001b[38;5;28;01mfor\u001b[39;00m k, v \u001b[38;5;129;01min\u001b[39;00m \u001b[38;5;28mzip\u001b[39m(\u001b[38;5;28mself\u001b[39m\u001b[38;5;241m.\u001b[39mindex, \u001b[38;5;28;43mself\u001b[39;49m\u001b[38;5;241;43m.\u001b[39;49m\u001b[43mvalues\u001b[49m):\n\u001b[0;32m   1400\u001b[0m     s \u001b[38;5;241m=\u001b[39m klass(v, index\u001b[38;5;241m=\u001b[39mcolumns, name\u001b[38;5;241m=\u001b[39mk)\u001b[38;5;241m.\u001b[39m__finalize__(\u001b[38;5;28mself\u001b[39m)\n\u001b[0;32m   1401\u001b[0m     \u001b[38;5;28;01mif\u001b[39;00m using_cow \u001b[38;5;129;01mand\u001b[39;00m \u001b[38;5;28mself\u001b[39m\u001b[38;5;241m.\u001b[39m_mgr\u001b[38;5;241m.\u001b[39mis_single_block:\n",
      "File \u001b[1;32me:\\Users\\Timothy\\anaconda3\\Lib\\site-packages\\pandas\\core\\frame.py:11360\u001b[0m, in \u001b[0;36mDataFrame.values\u001b[1;34m(self)\u001b[0m\n\u001b[0;32m  11286\u001b[0m \u001b[38;5;129m@property\u001b[39m\n\u001b[0;32m  11287\u001b[0m \u001b[38;5;28;01mdef\u001b[39;00m \u001b[38;5;21mvalues\u001b[39m(\u001b[38;5;28mself\u001b[39m) \u001b[38;5;241m-\u001b[39m\u001b[38;5;241m>\u001b[39m np\u001b[38;5;241m.\u001b[39mndarray:\n\u001b[0;32m  11288\u001b[0m \u001b[38;5;250m    \u001b[39m\u001b[38;5;124;03m\"\"\"\u001b[39;00m\n\u001b[0;32m  11289\u001b[0m \u001b[38;5;124;03m    Return a Numpy representation of the DataFrame.\u001b[39;00m\n\u001b[0;32m  11290\u001b[0m \n\u001b[1;32m   (...)\u001b[0m\n\u001b[0;32m  11358\u001b[0m \u001b[38;5;124;03m           ['monkey', nan, None]], dtype=object)\u001b[39;00m\n\u001b[0;32m  11359\u001b[0m \u001b[38;5;124;03m    \"\"\"\u001b[39;00m\n\u001b[1;32m> 11360\u001b[0m     \u001b[38;5;28;01mreturn\u001b[39;00m \u001b[38;5;28;43mself\u001b[39;49m\u001b[38;5;241;43m.\u001b[39;49m\u001b[43m_mgr\u001b[49m\u001b[38;5;241;43m.\u001b[39;49m\u001b[43mas_array\u001b[49m\u001b[43m(\u001b[49m\u001b[43m)\u001b[49m\n",
      "File \u001b[1;32me:\\Users\\Timothy\\anaconda3\\Lib\\site-packages\\pandas\\core\\internals\\managers.py:1732\u001b[0m, in \u001b[0;36mBlockManager.as_array\u001b[1;34m(self, dtype, copy, na_value)\u001b[0m\n\u001b[0;32m   1730\u001b[0m         arr\u001b[38;5;241m.\u001b[39mflags\u001b[38;5;241m.\u001b[39mwriteable \u001b[38;5;241m=\u001b[39m \u001b[38;5;28;01mFalse\u001b[39;00m\n\u001b[0;32m   1731\u001b[0m \u001b[38;5;28;01melse\u001b[39;00m:\n\u001b[1;32m-> 1732\u001b[0m     arr \u001b[38;5;241m=\u001b[39m \u001b[38;5;28;43mself\u001b[39;49m\u001b[38;5;241;43m.\u001b[39;49m\u001b[43m_interleave\u001b[49m\u001b[43m(\u001b[49m\u001b[43mdtype\u001b[49m\u001b[38;5;241;43m=\u001b[39;49m\u001b[43mdtype\u001b[49m\u001b[43m,\u001b[49m\u001b[43m \u001b[49m\u001b[43mna_value\u001b[49m\u001b[38;5;241;43m=\u001b[39;49m\u001b[43mna_value\u001b[49m\u001b[43m)\u001b[49m\n\u001b[0;32m   1733\u001b[0m     \u001b[38;5;66;03m# The underlying data was copied within _interleave, so no need\u001b[39;00m\n\u001b[0;32m   1734\u001b[0m     \u001b[38;5;66;03m# to further copy if copy=True or setting na_value\u001b[39;00m\n\u001b[0;32m   1736\u001b[0m \u001b[38;5;28;01mif\u001b[39;00m na_value \u001b[38;5;129;01mis\u001b[39;00m \u001b[38;5;129;01mnot\u001b[39;00m lib\u001b[38;5;241m.\u001b[39mno_default:\n",
      "File \u001b[1;32me:\\Users\\Timothy\\anaconda3\\Lib\\site-packages\\pandas\\core\\internals\\managers.py:1776\u001b[0m, in \u001b[0;36mBlockManager._interleave\u001b[1;34m(self, dtype, na_value)\u001b[0m\n\u001b[0;32m   1774\u001b[0m \u001b[38;5;28;01mfor\u001b[39;00m blk \u001b[38;5;129;01min\u001b[39;00m \u001b[38;5;28mself\u001b[39m\u001b[38;5;241m.\u001b[39mblocks:\n\u001b[0;32m   1775\u001b[0m     rl \u001b[38;5;241m=\u001b[39m blk\u001b[38;5;241m.\u001b[39mmgr_locs\n\u001b[1;32m-> 1776\u001b[0m     arr \u001b[38;5;241m=\u001b[39m \u001b[43mblk\u001b[49m\u001b[38;5;241;43m.\u001b[39;49m\u001b[43mget_values\u001b[49m\u001b[43m(\u001b[49m\u001b[43mdtype\u001b[49m\u001b[43m)\u001b[49m\n\u001b[0;32m   1777\u001b[0m     result[rl\u001b[38;5;241m.\u001b[39mindexer] \u001b[38;5;241m=\u001b[39m arr\n\u001b[0;32m   1778\u001b[0m     itemmask[rl\u001b[38;5;241m.\u001b[39mindexer] \u001b[38;5;241m=\u001b[39m \u001b[38;5;241m1\u001b[39m\n",
      "File \u001b[1;32me:\\Users\\Timothy\\anaconda3\\Lib\\site-packages\\pandas\\core\\internals\\blocks.py:2111\u001b[0m, in \u001b[0;36mNumpyBlock.get_values\u001b[1;34m(self, dtype)\u001b[0m\n\u001b[0;32m   2109\u001b[0m \u001b[38;5;28;01mdef\u001b[39;00m \u001b[38;5;21mget_values\u001b[39m(\u001b[38;5;28mself\u001b[39m, dtype: DtypeObj \u001b[38;5;241m|\u001b[39m \u001b[38;5;28;01mNone\u001b[39;00m \u001b[38;5;241m=\u001b[39m \u001b[38;5;28;01mNone\u001b[39;00m) \u001b[38;5;241m-\u001b[39m\u001b[38;5;241m>\u001b[39m np\u001b[38;5;241m.\u001b[39mndarray:\n\u001b[0;32m   2110\u001b[0m     \u001b[38;5;28;01mif\u001b[39;00m dtype \u001b[38;5;241m==\u001b[39m _dtype_obj:\n\u001b[1;32m-> 2111\u001b[0m         \u001b[38;5;28;01mreturn\u001b[39;00m \u001b[38;5;28mself\u001b[39m\u001b[38;5;241m.\u001b[39mvalues\u001b[38;5;241m.\u001b[39mastype(_dtype_obj)\n\u001b[0;32m   2112\u001b[0m     \u001b[38;5;28;01mreturn\u001b[39;00m \u001b[38;5;28mself\u001b[39m\u001b[38;5;241m.\u001b[39mvalues\n",
      "\u001b[1;31mKeyboardInterrupt\u001b[0m: "
     ]
    }
   ],
   "source": [
    "for year in range(2025, 2031):\n",
    "    k = 0.5\n",
    "    min_area_percent = 0.2\n",
    "    max_plots = 4\n",
    "    list = [k, min_area_percent, max_plots, year]\n",
    "    expected_sales = total_yield_2023\n",
    "    df_last1_result = pd.read_excel(f'../excels/附件3/{year - 1}_result_{k}.xlsx')\n",
    "    df_last1_result.columns = [column.rstrip(' ') for column in df_last1_result.columns]\n",
    "    if year - 2 == 2023:\n",
    "        df_last2_result = pd.read_excel(f'../excels/附件3/2023_result.xlsx')\n",
    "    else:    \n",
    "        df_last2_result = pd.read_excel(f'../excels/附件3/{year - 2}_result_{k}.xlsx')\n",
    "    df_last2_result.columns = [column.rstrip(' ') for column in df_last2_result.columns]\n",
    "    optimize_planting_strategy(new_fields, crops, expected_sales, df_last1_result, df_last2_result, list)\n",
    "    # 清空当年的种植信息\n",
    "    for field in new_fields:\n",
    "        field.planted_crop = []"
   ]
  },
  {
   "cell_type": "code",
   "execution_count": 5,
   "metadata": {},
   "outputs": [
    {
     "name": "stdout",
     "output_type": "stream",
     "text": [
      "Field(planted_crop=[], field_name=A1, field_type=平旱地, field_area=80.0, crop_and_season=[['粮食', '单季'], ['粮食（豆类）', '单季']], season=单季, seasonmonth=[])\n",
      "Field(planted_crop=[], field_name=A2, field_type=平旱地, field_area=55.0, crop_and_season=[['粮食', '单季'], ['粮食（豆类）', '单季']], season=单季, seasonmonth=[])\n",
      "Field(planted_crop=[], field_name=A3, field_type=平旱地, field_area=35.0, crop_and_season=[['粮食', '单季'], ['粮食（豆类）', '单季']], season=单季, seasonmonth=[])\n",
      "Field(planted_crop=[], field_name=A4, field_type=平旱地, field_area=72.0, crop_and_season=[['粮食', '单季'], ['粮食（豆类）', '单季']], season=单季, seasonmonth=[])\n",
      "Field(planted_crop=[], field_name=A5, field_type=平旱地, field_area=68.0, crop_and_season=[['粮食', '单季'], ['粮食（豆类）', '单季']], season=单季, seasonmonth=[])\n",
      "Field(planted_crop=[], field_name=A6, field_type=平旱地, field_area=55.0, crop_and_season=[['粮食', '单季'], ['粮食（豆类）', '单季']], season=单季, seasonmonth=[])\n",
      "Field(planted_crop=[], field_name=B1, field_type=梯田, field_area=60.0, crop_and_season=[['粮食', '单季'], ['粮食（豆类）', '单季']], season=单季, seasonmonth=[])\n",
      "Field(planted_crop=[], field_name=B2, field_type=梯田, field_area=46.0, crop_and_season=[['粮食', '单季'], ['粮食（豆类）', '单季']], season=单季, seasonmonth=[])\n",
      "Field(planted_crop=[], field_name=B3, field_type=梯田, field_area=40.0, crop_and_season=[['粮食', '单季'], ['粮食（豆类）', '单季']], season=单季, seasonmonth=[])\n",
      "Field(planted_crop=[], field_name=B4, field_type=梯田, field_area=28.0, crop_and_season=[['粮食', '单季'], ['粮食（豆类）', '单季']], season=单季, seasonmonth=[])\n",
      "Field(planted_crop=[], field_name=B5, field_type=梯田, field_area=25.0, crop_and_season=[['粮食', '单季'], ['粮食（豆类）', '单季']], season=单季, seasonmonth=[])\n",
      "Field(planted_crop=[], field_name=B6, field_type=梯田, field_area=86.0, crop_and_season=[['粮食', '单季'], ['粮食（豆类）', '单季']], season=单季, seasonmonth=[])\n",
      "Field(planted_crop=[], field_name=B7, field_type=梯田, field_area=55.0, crop_and_season=[['粮食', '单季'], ['粮食（豆类）', '单季']], season=单季, seasonmonth=[])\n",
      "Field(planted_crop=[], field_name=B8, field_type=梯田, field_area=44.0, crop_and_season=[['粮食', '单季'], ['粮食（豆类）', '单季']], season=单季, seasonmonth=[])\n",
      "Field(planted_crop=[], field_name=B9, field_type=梯田, field_area=50.0, crop_and_season=[['粮食', '单季'], ['粮食（豆类）', '单季']], season=单季, seasonmonth=[])\n",
      "Field(planted_crop=[], field_name=B10, field_type=梯田, field_area=25.0, crop_and_season=[['粮食', '单季'], ['粮食（豆类）', '单季']], season=单季, seasonmonth=[])\n",
      "Field(planted_crop=[], field_name=B11, field_type=梯田, field_area=60.0, crop_and_season=[['粮食', '单季'], ['粮食（豆类）', '单季']], season=单季, seasonmonth=[])\n",
      "Field(planted_crop=[], field_name=B12, field_type=梯田, field_area=45.0, crop_and_season=[['粮食', '单季'], ['粮食（豆类）', '单季']], season=单季, seasonmonth=[])\n",
      "Field(planted_crop=[], field_name=B13, field_type=梯田, field_area=35.0, crop_and_season=[['粮食', '单季'], ['粮食（豆类）', '单季']], season=单季, seasonmonth=[])\n",
      "Field(planted_crop=[], field_name=B14, field_type=梯田, field_area=20.0, crop_and_season=[['粮食', '单季'], ['粮食（豆类）', '单季']], season=单季, seasonmonth=[])\n",
      "Field(planted_crop=[], field_name=C1, field_type=山坡地, field_area=15.0, crop_and_season=[['粮食', '单季'], ['粮食（豆类）', '单季']], season=单季, seasonmonth=[])\n",
      "Field(planted_crop=[], field_name=C2, field_type=山坡地, field_area=13.0, crop_and_season=[['粮食', '单季'], ['粮食（豆类）', '单季']], season=单季, seasonmonth=[])\n",
      "Field(planted_crop=[], field_name=C3, field_type=山坡地, field_area=15.0, crop_and_season=[['粮食', '单季'], ['粮食（豆类）', '单季']], season=单季, seasonmonth=[])\n",
      "Field(planted_crop=[], field_name=C4, field_type=山坡地, field_area=18.0, crop_and_season=[['粮食', '单季'], ['粮食（豆类）', '单季']], season=单季, seasonmonth=[])\n",
      "Field(planted_crop=[], field_name=C5, field_type=山坡地, field_area=27.0, crop_and_season=[['粮食', '单季'], ['粮食（豆类）', '单季']], season=单季, seasonmonth=[])\n",
      "Field(planted_crop=[], field_name=C6, field_type=山坡地, field_area=20.0, crop_and_season=[['粮食', '单季'], ['粮食（豆类）', '单季']], season=单季, seasonmonth=[])\n",
      "Field(planted_crop=[], field_name=D1, field_type=水浇地, field_area=15.0, crop_and_season=[['粮食（水稻）', '单季'], ['蔬菜', '第一季'], ['蔬菜（水二）', '第二季']], season=单季, seasonmonth=[['3', '6'], ['7', '10']])\n",
      "Field(planted_crop=[], field_name=D1, field_type=水浇地, field_area=15.0, crop_and_season=[['粮食（水稻）', '单季'], ['蔬菜', '第一季'], ['蔬菜（水二）', '第二季']], season=第一季, seasonmonth=[['3', '6'], ['7', '10']])\n",
      "Field(planted_crop=[], field_name=D1, field_type=水浇地, field_area=15.0, crop_and_season=[['粮食（水稻）', '单季'], ['蔬菜', '第一季'], ['蔬菜（水二）', '第二季']], season=第二季, seasonmonth=[['3', '6'], ['7', '10']])\n",
      "Field(planted_crop=[], field_name=D2, field_type=水浇地, field_area=10.0, crop_and_season=[['粮食（水稻）', '单季'], ['蔬菜', '第一季'], ['蔬菜（水二）', '第二季']], season=单季, seasonmonth=[['3', '6'], ['7', '10']])\n",
      "Field(planted_crop=[], field_name=D2, field_type=水浇地, field_area=10.0, crop_and_season=[['粮食（水稻）', '单季'], ['蔬菜', '第一季'], ['蔬菜（水二）', '第二季']], season=第一季, seasonmonth=[['3', '6'], ['7', '10']])\n",
      "Field(planted_crop=[], field_name=D2, field_type=水浇地, field_area=10.0, crop_and_season=[['粮食（水稻）', '单季'], ['蔬菜', '第一季'], ['蔬菜（水二）', '第二季']], season=第二季, seasonmonth=[['3', '6'], ['7', '10']])\n",
      "Field(planted_crop=[], field_name=D3, field_type=水浇地, field_area=14.0, crop_and_season=[['粮食（水稻）', '单季'], ['蔬菜', '第一季'], ['蔬菜（水二）', '第二季']], season=单季, seasonmonth=[['3', '6'], ['7', '10']])\n",
      "Field(planted_crop=[], field_name=D3, field_type=水浇地, field_area=14.0, crop_and_season=[['粮食（水稻）', '单季'], ['蔬菜', '第一季'], ['蔬菜（水二）', '第二季']], season=第一季, seasonmonth=[['3', '6'], ['7', '10']])\n",
      "Field(planted_crop=[], field_name=D3, field_type=水浇地, field_area=14.0, crop_and_season=[['粮食（水稻）', '单季'], ['蔬菜', '第一季'], ['蔬菜（水二）', '第二季']], season=第二季, seasonmonth=[['3', '6'], ['7', '10']])\n",
      "Field(planted_crop=[], field_name=D4, field_type=水浇地, field_area=6.0, crop_and_season=[['粮食（水稻）', '单季'], ['蔬菜', '第一季'], ['蔬菜（水二）', '第二季']], season=单季, seasonmonth=[['3', '6'], ['7', '10']])\n",
      "Field(planted_crop=[], field_name=D4, field_type=水浇地, field_area=6.0, crop_and_season=[['粮食（水稻）', '单季'], ['蔬菜', '第一季'], ['蔬菜（水二）', '第二季']], season=第一季, seasonmonth=[['3', '6'], ['7', '10']])\n",
      "Field(planted_crop=[], field_name=D4, field_type=水浇地, field_area=6.0, crop_and_season=[['粮食（水稻）', '单季'], ['蔬菜', '第一季'], ['蔬菜（水二）', '第二季']], season=第二季, seasonmonth=[['3', '6'], ['7', '10']])\n",
      "Field(planted_crop=[], field_name=D5, field_type=水浇地, field_area=10.0, crop_and_season=[['粮食（水稻）', '单季'], ['蔬菜', '第一季'], ['蔬菜（水二）', '第二季']], season=单季, seasonmonth=[['3', '6'], ['7', '10']])\n",
      "Field(planted_crop=[], field_name=D5, field_type=水浇地, field_area=10.0, crop_and_season=[['粮食（水稻）', '单季'], ['蔬菜', '第一季'], ['蔬菜（水二）', '第二季']], season=第一季, seasonmonth=[['3', '6'], ['7', '10']])\n",
      "Field(planted_crop=[], field_name=D5, field_type=水浇地, field_area=10.0, crop_and_season=[['粮食（水稻）', '单季'], ['蔬菜', '第一季'], ['蔬菜（水二）', '第二季']], season=第二季, seasonmonth=[['3', '6'], ['7', '10']])\n",
      "Field(planted_crop=[], field_name=D6, field_type=水浇地, field_area=12.0, crop_and_season=[['粮食（水稻）', '单季'], ['蔬菜', '第一季'], ['蔬菜（水二）', '第二季']], season=单季, seasonmonth=[['3', '6'], ['7', '10']])\n",
      "Field(planted_crop=[], field_name=D6, field_type=水浇地, field_area=12.0, crop_and_season=[['粮食（水稻）', '单季'], ['蔬菜', '第一季'], ['蔬菜（水二）', '第二季']], season=第一季, seasonmonth=[['3', '6'], ['7', '10']])\n",
      "Field(planted_crop=[], field_name=D6, field_type=水浇地, field_area=12.0, crop_and_season=[['粮食（水稻）', '单季'], ['蔬菜', '第一季'], ['蔬菜（水二）', '第二季']], season=第二季, seasonmonth=[['3', '6'], ['7', '10']])\n",
      "Field(planted_crop=[], field_name=D7, field_type=水浇地, field_area=22.0, crop_and_season=[['粮食（水稻）', '单季'], ['蔬菜', '第一季'], ['蔬菜（水二）', '第二季']], season=单季, seasonmonth=[['3', '6'], ['7', '10']])\n",
      "Field(planted_crop=[], field_name=D7, field_type=水浇地, field_area=22.0, crop_and_season=[['粮食（水稻）', '单季'], ['蔬菜', '第一季'], ['蔬菜（水二）', '第二季']], season=第一季, seasonmonth=[['3', '6'], ['7', '10']])\n",
      "Field(planted_crop=[], field_name=D7, field_type=水浇地, field_area=22.0, crop_and_season=[['粮食（水稻）', '单季'], ['蔬菜', '第一季'], ['蔬菜（水二）', '第二季']], season=第二季, seasonmonth=[['3', '6'], ['7', '10']])\n",
      "Field(planted_crop=[], field_name=D8, field_type=水浇地, field_area=20.0, crop_and_season=[['粮食（水稻）', '单季'], ['蔬菜', '第一季'], ['蔬菜（水二）', '第二季']], season=单季, seasonmonth=[['3', '6'], ['7', '10']])\n",
      "Field(planted_crop=[], field_name=D8, field_type=水浇地, field_area=20.0, crop_and_season=[['粮食（水稻）', '单季'], ['蔬菜', '第一季'], ['蔬菜（水二）', '第二季']], season=第一季, seasonmonth=[['3', '6'], ['7', '10']])\n",
      "Field(planted_crop=[], field_name=D8, field_type=水浇地, field_area=20.0, crop_and_season=[['粮食（水稻）', '单季'], ['蔬菜', '第一季'], ['蔬菜（水二）', '第二季']], season=第二季, seasonmonth=[['3', '6'], ['7', '10']])\n",
      "Field(planted_crop=[], field_name=E1, field_type=普通大棚, field_area=0.6, crop_and_season=[['蔬菜', '第一季'], ['食用菌', '第二季']], season=第一季, seasonmonth=[['5', '9'], ['9', '16']])\n",
      "Field(planted_crop=[], field_name=E1, field_type=普通大棚, field_area=0.6, crop_and_season=[['蔬菜', '第一季'], ['食用菌', '第二季']], season=第二季, seasonmonth=[['5', '9'], ['9', '16']])\n",
      "Field(planted_crop=[], field_name=E2, field_type=普通大棚, field_area=0.6, crop_and_season=[['蔬菜', '第一季'], ['食用菌', '第二季']], season=第一季, seasonmonth=[['5', '9'], ['9', '16']])\n",
      "Field(planted_crop=[], field_name=E2, field_type=普通大棚, field_area=0.6, crop_and_season=[['蔬菜', '第一季'], ['食用菌', '第二季']], season=第二季, seasonmonth=[['5', '9'], ['9', '16']])\n",
      "Field(planted_crop=[], field_name=E3, field_type=普通大棚, field_area=0.6, crop_and_season=[['蔬菜', '第一季'], ['食用菌', '第二季']], season=第一季, seasonmonth=[['5', '9'], ['9', '16']])\n",
      "Field(planted_crop=[], field_name=E3, field_type=普通大棚, field_area=0.6, crop_and_season=[['蔬菜', '第一季'], ['食用菌', '第二季']], season=第二季, seasonmonth=[['5', '9'], ['9', '16']])\n",
      "Field(planted_crop=[], field_name=E4, field_type=普通大棚, field_area=0.6, crop_and_season=[['蔬菜', '第一季'], ['食用菌', '第二季']], season=第一季, seasonmonth=[['5', '9'], ['9', '16']])\n",
      "Field(planted_crop=[], field_name=E4, field_type=普通大棚, field_area=0.6, crop_and_season=[['蔬菜', '第一季'], ['食用菌', '第二季']], season=第二季, seasonmonth=[['5', '9'], ['9', '16']])\n",
      "Field(planted_crop=[], field_name=E5, field_type=普通大棚, field_area=0.6, crop_and_season=[['蔬菜', '第一季'], ['食用菌', '第二季']], season=第一季, seasonmonth=[['5', '9'], ['9', '16']])\n",
      "Field(planted_crop=[], field_name=E5, field_type=普通大棚, field_area=0.6, crop_and_season=[['蔬菜', '第一季'], ['食用菌', '第二季']], season=第二季, seasonmonth=[['5', '9'], ['9', '16']])\n",
      "Field(planted_crop=[], field_name=E6, field_type=普通大棚, field_area=0.6, crop_and_season=[['蔬菜', '第一季'], ['食用菌', '第二季']], season=第一季, seasonmonth=[['5', '9'], ['9', '16']])\n",
      "Field(planted_crop=[], field_name=E6, field_type=普通大棚, field_area=0.6, crop_and_season=[['蔬菜', '第一季'], ['食用菌', '第二季']], season=第二季, seasonmonth=[['5', '9'], ['9', '16']])\n",
      "Field(planted_crop=[], field_name=E7, field_type=普通大棚, field_area=0.6, crop_and_season=[['蔬菜', '第一季'], ['食用菌', '第二季']], season=第一季, seasonmonth=[['5', '9'], ['9', '16']])\n",
      "Field(planted_crop=[], field_name=E7, field_type=普通大棚, field_area=0.6, crop_and_season=[['蔬菜', '第一季'], ['食用菌', '第二季']], season=第二季, seasonmonth=[['5', '9'], ['9', '16']])\n",
      "Field(planted_crop=[], field_name=E8, field_type=普通大棚, field_area=0.6, crop_and_season=[['蔬菜', '第一季'], ['食用菌', '第二季']], season=第一季, seasonmonth=[['5', '9'], ['9', '16']])\n",
      "Field(planted_crop=[], field_name=E8, field_type=普通大棚, field_area=0.6, crop_and_season=[['蔬菜', '第一季'], ['食用菌', '第二季']], season=第二季, seasonmonth=[['5', '9'], ['9', '16']])\n",
      "Field(planted_crop=[], field_name=E9, field_type=普通大棚, field_area=0.6, crop_and_season=[['蔬菜', '第一季'], ['食用菌', '第二季']], season=第一季, seasonmonth=[['5', '9'], ['9', '16']])\n",
      "Field(planted_crop=[], field_name=E9, field_type=普通大棚, field_area=0.6, crop_and_season=[['蔬菜', '第一季'], ['食用菌', '第二季']], season=第二季, seasonmonth=[['5', '9'], ['9', '16']])\n",
      "Field(planted_crop=[], field_name=E10, field_type=普通大棚, field_area=0.6, crop_and_season=[['蔬菜', '第一季'], ['食用菌', '第二季']], season=第一季, seasonmonth=[['5', '9'], ['9', '16']])\n",
      "Field(planted_crop=[], field_name=E10, field_type=普通大棚, field_area=0.6, crop_and_season=[['蔬菜', '第一季'], ['食用菌', '第二季']], season=第二季, seasonmonth=[['5', '9'], ['9', '16']])\n",
      "Field(planted_crop=[], field_name=E11, field_type=普通大棚, field_area=0.6, crop_and_season=[['蔬菜', '第一季'], ['食用菌', '第二季']], season=第一季, seasonmonth=[['5', '9'], ['9', '16']])\n",
      "Field(planted_crop=[], field_name=E11, field_type=普通大棚, field_area=0.6, crop_and_season=[['蔬菜', '第一季'], ['食用菌', '第二季']], season=第二季, seasonmonth=[['5', '9'], ['9', '16']])\n",
      "Field(planted_crop=[], field_name=E12, field_type=普通大棚, field_area=0.6, crop_and_season=[['蔬菜', '第一季'], ['食用菌', '第二季']], season=第一季, seasonmonth=[['5', '9'], ['9', '16']])\n",
      "Field(planted_crop=[], field_name=E12, field_type=普通大棚, field_area=0.6, crop_and_season=[['蔬菜', '第一季'], ['食用菌', '第二季']], season=第二季, seasonmonth=[['5', '9'], ['9', '16']])\n",
      "Field(planted_crop=[], field_name=E13, field_type=普通大棚, field_area=0.6, crop_and_season=[['蔬菜', '第一季'], ['食用菌', '第二季']], season=第一季, seasonmonth=[['5', '9'], ['9', '16']])\n",
      "Field(planted_crop=[], field_name=E13, field_type=普通大棚, field_area=0.6, crop_and_season=[['蔬菜', '第一季'], ['食用菌', '第二季']], season=第二季, seasonmonth=[['5', '9'], ['9', '16']])\n",
      "Field(planted_crop=[], field_name=E14, field_type=普通大棚, field_area=0.6, crop_and_season=[['蔬菜', '第一季'], ['食用菌', '第二季']], season=第一季, seasonmonth=[['5', '9'], ['9', '16']])\n",
      "Field(planted_crop=[], field_name=E14, field_type=普通大棚, field_area=0.6, crop_and_season=[['蔬菜', '第一季'], ['食用菌', '第二季']], season=第二季, seasonmonth=[['5', '9'], ['9', '16']])\n",
      "Field(planted_crop=[], field_name=E15, field_type=普通大棚, field_area=0.6, crop_and_season=[['蔬菜', '第一季'], ['食用菌', '第二季']], season=第一季, seasonmonth=[['5', '9'], ['9', '16']])\n",
      "Field(planted_crop=[], field_name=E15, field_type=普通大棚, field_area=0.6, crop_and_season=[['蔬菜', '第一季'], ['食用菌', '第二季']], season=第二季, seasonmonth=[['5', '9'], ['9', '16']])\n",
      "Field(planted_crop=[], field_name=E16, field_type=普通大棚, field_area=0.6, crop_and_season=[['蔬菜', '第一季'], ['食用菌', '第二季']], season=第一季, seasonmonth=[['5', '9'], ['9', '16']])\n",
      "Field(planted_crop=[], field_name=E16, field_type=普通大棚, field_area=0.6, crop_and_season=[['蔬菜', '第一季'], ['食用菌', '第二季']], season=第二季, seasonmonth=[['5', '9'], ['9', '16']])\n",
      "Field(planted_crop=[], field_name=F1, field_type=智慧大棚, field_area=0.6, crop_and_season=[['蔬菜', '第一季'], ['蔬菜', '第二季']], season=第一季, seasonmonth=[['3', '7'], ['8', '14']])\n",
      "Field(planted_crop=[], field_name=F1, field_type=智慧大棚, field_area=0.6, crop_and_season=[['蔬菜', '第一季'], ['蔬菜', '第二季']], season=第二季, seasonmonth=[['3', '7'], ['8', '14']])\n",
      "Field(planted_crop=[], field_name=F2, field_type=智慧大棚, field_area=0.6, crop_and_season=[['蔬菜', '第一季'], ['蔬菜', '第二季']], season=第一季, seasonmonth=[['3', '7'], ['8', '14']])\n",
      "Field(planted_crop=[], field_name=F2, field_type=智慧大棚, field_area=0.6, crop_and_season=[['蔬菜', '第一季'], ['蔬菜', '第二季']], season=第二季, seasonmonth=[['3', '7'], ['8', '14']])\n",
      "Field(planted_crop=[], field_name=F3, field_type=智慧大棚, field_area=0.6, crop_and_season=[['蔬菜', '第一季'], ['蔬菜', '第二季']], season=第一季, seasonmonth=[['3', '7'], ['8', '14']])\n",
      "Field(planted_crop=[], field_name=F3, field_type=智慧大棚, field_area=0.6, crop_and_season=[['蔬菜', '第一季'], ['蔬菜', '第二季']], season=第二季, seasonmonth=[['3', '7'], ['8', '14']])\n",
      "Field(planted_crop=[], field_name=F4, field_type=智慧大棚, field_area=0.6, crop_and_season=[['蔬菜', '第一季'], ['蔬菜', '第二季']], season=第一季, seasonmonth=[['3', '7'], ['8', '14']])\n",
      "Field(planted_crop=[], field_name=F4, field_type=智慧大棚, field_area=0.6, crop_and_season=[['蔬菜', '第一季'], ['蔬菜', '第二季']], season=第二季, seasonmonth=[['3', '7'], ['8', '14']])\n"
     ]
    }
   ],
   "source": [
    "for field in new_fields:\n",
    "    print(field)"
   ]
  }
 ],
 "metadata": {
  "kernelspec": {
   "display_name": "base",
   "language": "python",
   "name": "python3"
  },
  "language_info": {
   "codemirror_mode": {
    "name": "ipython",
    "version": 3
   },
   "file_extension": ".py",
   "mimetype": "text/x-python",
   "name": "python",
   "nbconvert_exporter": "python",
   "pygments_lexer": "ipython3",
   "version": "3.11.5"
  }
 },
 "nbformat": 4,
 "nbformat_minor": 2
}
