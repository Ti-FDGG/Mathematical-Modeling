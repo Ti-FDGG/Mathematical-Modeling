{
 "cells": [
  {
   "cell_type": "markdown",
   "metadata": {},
   "source": [
    "## 调用"
   ]
  },
  {
   "cell_type": "code",
   "execution_count": 1,
   "metadata": {},
   "outputs": [],
   "source": [
    "import numpy as np\n",
    "import pandas as pd\n",
    "\n",
    "# plt.rcParams[\"figure.figsize\"] = [27.50, 12.50]\n",
    "\n",
    "excel = pd.read_excel(\"../B题数据.xlsx\")\n",
    "\n",
    "ana = pd.DataFrame(excel).iloc[:, 2:]\n",
    "# print(ana)"
   ]
  },
  {
   "cell_type": "markdown",
   "metadata": {},
   "source": [
    "## 第三题\n",
    "\n",
    "3、国家标准的I-V分类主要考虑水质本身对人和环境的影响，请从居民、游客生活体验的角度出发，对各个监测站的水质重新分类，并给出分类的依据。  \n",
    "*（分类，分类依据制定）*"
   ]
  },
  {
   "cell_type": "markdown",
   "metadata": {},
   "source": [
    "### 熵权法计算原始数据打分到二级标准（实际是一级）的权重\n",
    "\n",
    "注：不包括水质类别相对应的数据列。一方面是制定打分标准时忘记了，另一方面是后来反思也认为数据给出的水质类别与其他列是相关的，不必算进新的打分标准中"
   ]
  },
  {
   "cell_type": "code",
   "execution_count": 2,
   "metadata": {},
   "outputs": [],
   "source": [
    "stdana = pd.DataFrame()\n",
    "weight = []\n",
    "k = 1 / np.log(len(ana.index))\n",
    "for i, col in enumerate(ana):\n",
    "    stdana[i] = ((ana[col]-min(ana[col]))/max(ana[col]-min(ana[col])))\n",
    "    stdana[i] /= sum(stdana[i])\n",
    "    for ji, j in enumerate(stdana[i]):\n",
    "        if j != 0:\n",
    "            stdana.iloc[ji, i] *= np.log(j)\n",
    "        else:\n",
    "            stdana.iloc[ji, i] = 0\n",
    "    weight.append(1-(-k*sum(stdana[i])))\n",
    "for k in range(len(weight)):\n",
    "    weight[k] /= sum(weight)\n",
    "weight = {k:v for k,v in zip(ana.columns, weight)}\n",
    "# print(weight)"
   ]
  },
  {
   "cell_type": "markdown",
   "metadata": {},
   "source": [
    "### 分数计算"
   ]
  },
  {
   "cell_type": "code",
   "execution_count": 3,
   "metadata": {},
   "outputs": [
    {
     "name": "stdout",
     "output_type": "stream",
     "text": [
      "['广北滨河路' 4.2046905283938445 1.0 1.0]\n",
      "['白石桥' 4.175439607864766 0.9853221696530704 1.0]\n",
      "['密云水库' 4.051756109515307 0.9232589807806576 1.0]\n",
      "['怀柔水库' 3.928955569430763 0.861638851866066 1.0]\n",
      "['辛庄桥' 3.8006951229270483 0.7972789944683645 2.0]\n",
      "['小屯桥' 3.752495095665992 0.7730926847707988 2.0]\n",
      "['大关桥' 3.705685076704359 0.7496038678574167 2.0]\n",
      "['鼓楼外大街' 3.67109994279868 0.732249380586195 2.0]\n",
      "['后城' 3.638634800755555 0.7159586848241845 2.0]\n",
      "['谷家营' 3.5313070662863417 0.662102660823388 2.0]\n",
      "['南大荒桥' 3.346992754605246 0.5696155134641493 3.0]\n",
      "['新八里桥' 3.283773711769573 0.5378928063269551 3.0]\n",
      "['码头' 3.2218588043781557 0.5068245018018489 3.0]\n",
      "['沙窝' 3.1586974670374515 0.4751307507265467 3.0]\n",
      "['罗庄' 2.8984059331336973 0.3445189646262277 4.0]\n",
      "['花园路' 2.722193609042477 0.25609731664841545 4.0]\n",
      "['大红门闸上' 2.314958468048369 0.05175064301544491 5.0]\n",
      "['东店' 2.2850554850743476 0.03674561401051191 5.0]\n",
      "['清河闸' 2.2118264716705713 0.0 5.0]\n"
     ]
    }
   ],
   "source": [
    "weight1 = [weight['水温(℃)'], weight['浊度(NTU)'], weight['溶解氧(mg/L)']]\n",
    "weight2 = [weight['高锰酸盐指数(mg/L)'], weight['电导率(μS/cm)'], weight['pH(无量纲)'], weight['氨氮(mg/L)']]\n",
    "weight3 = [weight['氨氮(mg/L)'], weight['溶解氧(mg/L)'], weight['总磷(mg/L)'], weight['总氮(mg/L)']]\n",
    "weight1 /= sum(weight1)\n",
    "weight2 /= sum(weight2)\n",
    "weight3 /= sum(weight3)\n",
    "weightn = [weight1, weight2, weight3]\n",
    "s = pd.DataFrame(columns=['舒适度', '安全性', '清洁度'])\n",
    "for i in range(3):\n",
    "    score = pd.read_excel('分.xlsx', sheet_name=i)\n",
    "    s.iloc[:, i] = np.dot(weightn[i], score.iloc[0:, 1:])\n",
    "weightupper = [0.2, 0.4 ,0.4]\n",
    "s_last = pd.concat([excel['断面名称'], pd.Series(np.dot(s, weightupper))], axis=1)\n",
    "s_last.columns = ['断面名称', '总分']\n",
    "s_last_sorted = sorted(s_last.values, key=lambda x: x[1], reverse=True)\n",
    "# print(excel['断面名称'])\n",
    "# print(s_last_sorted)\n",
    "total_scores = np.array([item[1] for item in s_last_sorted])\n",
    "standardized_scores = (total_scores - min(total_scores)) / (max(total_scores) - min(total_scores))\n",
    "levels = 6 - np.digitize(standardized_scores, np.linspace(-0.00001, 1.00001, 6), right=True)\n",
    "s_last_sorted_with_scores = [np.append(item, [score, level]) for item, score, level in zip(s_last_sorted, standardized_scores, levels)]\n",
    "for item in s_last_sorted_with_scores:\n",
    "    print(item)"
   ]
  }
 ],
 "metadata": {
  "kernelspec": {
   "display_name": ".venv",
   "language": "python",
   "name": "python3"
  },
  "language_info": {
   "codemirror_mode": {
    "name": "ipython",
    "version": 3
   },
   "file_extension": ".py",
   "mimetype": "text/x-python",
   "name": "python",
   "nbconvert_exporter": "python",
   "pygments_lexer": "ipython3",
   "version": "3.11.5"
  }
 },
 "nbformat": 4,
 "nbformat_minor": 2
}
